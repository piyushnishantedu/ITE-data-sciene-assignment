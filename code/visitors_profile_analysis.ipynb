{
 "cells": [
  {
   "cell_type": "markdown",
   "metadata": {},
   "source": [
    "### Libraries¶"
   ]
  },
  {
   "cell_type": "code",
   "execution_count": 80,
   "metadata": {},
   "outputs": [],
   "source": [
    "import pandas as pd\n",
    "import numpy as np\n",
    "import json\n",
    "import seaborn as sns\n",
    "import matplotlib.pyplot as plt"
   ]
  },
  {
   "cell_type": "markdown",
   "metadata": {},
   "source": [
    "### Helper functions"
   ]
  },
  {
   "cell_type": "code",
   "execution_count": 81,
   "metadata": {},
   "outputs": [],
   "source": [
    "def get_file_path(base_folder_path,file_name):\n",
    "    \"\"\"\n",
    "    This function takes the parameter base_folder_path and file_name\n",
    "    Return final path of file\n",
    "    \"\"\"\n",
    "    return base_folder_path + file_name\n",
    "\n",
    "def get_data_frame_from_csv(file_path):\n",
    "    \"\"\"\n",
    "    This function is used to create and return the data frame from csv file\n",
    "    parameters: file_path\n",
    "    return: Panda data frame\n",
    "    \"\"\"\n",
    "    return pd.read_csv(file_path)\n",
    "def get_expanded_dataframe(df,json_data_column,row_col_list,json_data_col_list):\n",
    "    \"\"\"\n",
    "    This function perform the operation on json data columns and explode the data points and return the final data frame\n",
    "\n",
    "    Args:\n",
    "        df (Pandas data frame): Original Data frame which has json column\n",
    "        json_data_column (String): Json data column name \n",
    "        row_col_list (List): List of feature which needs to be taken during explode\n",
    "        json_data_col_list (List): Json data key list\n",
    "\n",
    "    Returns:\n",
    "        Panda Dataframe: After explode of json data return the final data frame\n",
    "    \"\"\"\n",
    "    row_expaned = []\n",
    "    for _, row in df.iterrows():\n",
    "        json_data = json.loads(row[json_data_column])\n",
    "        for item_json in json_data:\n",
    "            data_dict = {}\n",
    "            for item in row_col_list:\n",
    "                data_dict[item] = row[item]\n",
    "            for item in json_data_col_list:\n",
    "                data_dict[item] = item_json[item]\n",
    "            row_expaned.append(data_dict)\n",
    "    return pd.DataFrame(row_expaned)\n",
    "    \n",
    "def get_merged_data_frame(df1,df2,left_on,right_on,how):\n",
    "    \"\"\"\n",
    "    This function merge the data frame\n",
    "\n",
    "    Args:\n",
    "        df1 (Pandas data frame): data frame\n",
    "        df2 (Pandas data frame): data frame\n",
    "        left_on (String or List): left column names\n",
    "        right_on (List or String): right column names\n",
    "        how (String): How is the join left,right,inner\n",
    "\n",
    "    Returns:\n",
    "        Pandas Data frame: Merged data frame\n",
    "    \"\"\"\n",
    "    return df1.merge(df2, left_on=left_on,right_on=right_on,how=how)\n",
    "\n",
    "def fill_na(df,column_name,null_value):\n",
    "    \"\"\"\n",
    "    Fill the null value with constant for a feature in Data Frame\n",
    "\n",
    "    Args:\n",
    "        df (Pandas Data Frame): Data Frame\n",
    "        column_name (String): Column name which has null value\n",
    "        null_value (Str or int or any thing): NUll value which can be filled for a column\n",
    "    \"\"\"\n",
    "    df[column_name] = df[column_name].fillna(null_value)\n",
    "    return df\n",
    "\n",
    "def count_distributation_plot(df,fig_size,column_name,plot_title,palette=\"coolwarm\"):\n",
    "    \"\"\"\n",
    "    This function plot the dsitribuation count of discrete feature\n",
    "\n",
    "    Args:\n",
    "        df (Pandas Data frame): Pandas Data frame\n",
    "        fig_size (Touple): Figure size of the plot\n",
    "        column_name (String): Column name \n",
    "        palette (str, optional): Plot featiure. Defaults to \"coolwarm\".\n",
    "    \"\"\"\n",
    "    plt.figure(figsize=fig_size)\n",
    "    sns.countplot(data=df,x=column_name,palette=palette)\n",
    "    plt.title(plot_title)\n",
    "    plt.show()"
   ]
  },
  {
   "cell_type": "markdown",
   "metadata": {},
   "source": [
    "### Data load"
   ]
  },
  {
   "cell_type": "code",
   "execution_count": 82,
   "metadata": {},
   "outputs": [],
   "source": [
    "# Base folder path\n",
    "base_folder = \"../source/\"\n",
    "# Vistors file path\n",
    "visitors_path = get_file_path(base_folder,\"visitors.csv\")\n",
    "# vistors questions file path\n",
    "visitors_questions_path = get_file_path(base_folder,\"visitors_questions.csv\")\n",
    "# visitors answers path\n",
    "visitors_answers_path = get_file_path(base_folder,\"visitors_answers.csv\")\n",
    "exhibitors_path = get_file_path(base_folder,\"exhibitors.csv\")\n",
    "exhibitors_categories_path = get_file_path(base_folder,\"exhibitor_categories.csv\")"
   ]
  },
  {
   "cell_type": "code",
   "execution_count": 83,
   "metadata": {},
   "outputs": [],
   "source": [
    "visitors_df = get_data_frame_from_csv(visitors_path) # Visitor data frame from visitors file\n",
    "visitors_questions_df = get_data_frame_from_csv(visitors_questions_path) # Visitors questions data frame from question file\n",
    "visitors_answers_df = get_data_frame_from_csv(visitors_answers_path) # Visitors answers data frame from answers file"
   ]
  },
  {
   "cell_type": "markdown",
   "metadata": {},
   "source": [
    "#### Data cleaning and processing"
   ]
  },
  {
   "cell_type": "code",
   "execution_count": 84,
   "metadata": {},
   "outputs": [
    {
     "data": {
      "text/html": [
       "<div>\n",
       "<style scoped>\n",
       "    .dataframe tbody tr th:only-of-type {\n",
       "        vertical-align: middle;\n",
       "    }\n",
       "\n",
       "    .dataframe tbody tr th {\n",
       "        vertical-align: top;\n",
       "    }\n",
       "\n",
       "    .dataframe thead th {\n",
       "        text-align: right;\n",
       "    }\n",
       "</style>\n",
       "<table border=\"1\" class=\"dataframe\">\n",
       "  <thead>\n",
       "    <tr style=\"text-align: right;\">\n",
       "      <th></th>\n",
       "      <th>email</th>\n",
       "      <th>gender</th>\n",
       "      <th>id</th>\n",
       "      <th>data</th>\n",
       "    </tr>\n",
       "  </thead>\n",
       "  <tbody>\n",
       "    <tr>\n",
       "      <th>0</th>\n",
       "      <td>emilija+100_L8gA@bss.mk</td>\n",
       "      <td>F</td>\n",
       "      <td>67b70a9f2d21f543a1096602</td>\n",
       "      <td>[{ \"stepId\" : \"5c8a78336d41a10da4f730ef\", \"que...</td>\n",
       "    </tr>\n",
       "    <tr>\n",
       "      <th>1</th>\n",
       "      <td>aleksandar.dimkov+mitt1_n5eA@bss.com.mk</td>\n",
       "      <td>M</td>\n",
       "      <td>67ada1ee197e604dd2722d1b</td>\n",
       "      <td>[{ \"stepId\" : \"5c8a78336d41a10da4f730ef\", \"que...</td>\n",
       "    </tr>\n",
       "    <tr>\n",
       "      <th>2</th>\n",
       "      <td>daniela.p+150_YhiF@bss.com.mk</td>\n",
       "      <td>F</td>\n",
       "      <td>67b44fef197e604dd2722d3d</td>\n",
       "      <td>[{ \"stepId\" : \"5c8a78336d41a10da4f730ef\", \"que...</td>\n",
       "    </tr>\n",
       "    <tr>\n",
       "      <th>3</th>\n",
       "      <td>tanja+182_jiPa@bss.com.mk</td>\n",
       "      <td>F</td>\n",
       "      <td>67b45018197e604dd2722d3e</td>\n",
       "      <td>[{ \"stepId\" : \"5c8a78336d41a10da4f730ef\", \"que...</td>\n",
       "    </tr>\n",
       "    <tr>\n",
       "      <th>4</th>\n",
       "      <td>aleksandar.dimkov+mitt10_V0iB@bss.com.mk</td>\n",
       "      <td>M</td>\n",
       "      <td>67b5f1392d21f543a10965f1</td>\n",
       "      <td>[{ \"stepId\" : \"5c8a78336d41a10da4f730ef\", \"que...</td>\n",
       "    </tr>\n",
       "    <tr>\n",
       "      <th>5</th>\n",
       "      <td>3990147_SeNs@gmail.com</td>\n",
       "      <td>M</td>\n",
       "      <td>67b5e0f7774d9e718c7541db</td>\n",
       "      <td>[{ \"stepId\" : \"5c8a78336d41a10da4f730ef\", \"que...</td>\n",
       "    </tr>\n",
       "    <tr>\n",
       "      <th>6</th>\n",
       "      <td>tanja+182_Ahsx@bss.mk</td>\n",
       "      <td>M</td>\n",
       "      <td>67b45356197e604dd2722d43</td>\n",
       "      <td>[{ \"stepId\" : \"5c8a78336d41a10da4f730ef\", \"que...</td>\n",
       "    </tr>\n",
       "    <tr>\n",
       "      <th>7</th>\n",
       "      <td>daniela.p+201_Fwae@bss.com.mk</td>\n",
       "      <td>M</td>\n",
       "      <td>67b47874197e604dd2722d6f</td>\n",
       "      <td>[{ \"stepId\" : \"5c8a78336d41a10da4f730ef\", \"que...</td>\n",
       "    </tr>\n",
       "    <tr>\n",
       "      <th>8</th>\n",
       "      <td>tanja+202_99oJ@bss.mk</td>\n",
       "      <td>F</td>\n",
       "      <td>67b708f32d21f543a10965fa</td>\n",
       "      <td>[{ \"stepId\" : \"5c8a78336d41a10da4f730ef\", \"que...</td>\n",
       "    </tr>\n",
       "    <tr>\n",
       "      <th>9</th>\n",
       "      <td>emilija+3_CmwU@bss.com.mk</td>\n",
       "      <td>F</td>\n",
       "      <td>67b46946197e604dd2722d5d</td>\n",
       "      <td>[{ \"stepId\" : \"5c8a78336d41a10da4f730ef\", \"que...</td>\n",
       "    </tr>\n",
       "  </tbody>\n",
       "</table>\n",
       "</div>"
      ],
      "text/plain": [
       "                                      email gender                        id  \\\n",
       "0                   emilija+100_L8gA@bss.mk      F  67b70a9f2d21f543a1096602   \n",
       "1   aleksandar.dimkov+mitt1_n5eA@bss.com.mk      M  67ada1ee197e604dd2722d1b   \n",
       "2             daniela.p+150_YhiF@bss.com.mk      F  67b44fef197e604dd2722d3d   \n",
       "3                 tanja+182_jiPa@bss.com.mk      F  67b45018197e604dd2722d3e   \n",
       "4  aleksandar.dimkov+mitt10_V0iB@bss.com.mk      M  67b5f1392d21f543a10965f1   \n",
       "5                    3990147_SeNs@gmail.com      M  67b5e0f7774d9e718c7541db   \n",
       "6                     tanja+182_Ahsx@bss.mk      M  67b45356197e604dd2722d43   \n",
       "7             daniela.p+201_Fwae@bss.com.mk      M  67b47874197e604dd2722d6f   \n",
       "8                     tanja+202_99oJ@bss.mk      F  67b708f32d21f543a10965fa   \n",
       "9                 emilija+3_CmwU@bss.com.mk      F  67b46946197e604dd2722d5d   \n",
       "\n",
       "                                                data  \n",
       "0  [{ \"stepId\" : \"5c8a78336d41a10da4f730ef\", \"que...  \n",
       "1  [{ \"stepId\" : \"5c8a78336d41a10da4f730ef\", \"que...  \n",
       "2  [{ \"stepId\" : \"5c8a78336d41a10da4f730ef\", \"que...  \n",
       "3  [{ \"stepId\" : \"5c8a78336d41a10da4f730ef\", \"que...  \n",
       "4  [{ \"stepId\" : \"5c8a78336d41a10da4f730ef\", \"que...  \n",
       "5  [{ \"stepId\" : \"5c8a78336d41a10da4f730ef\", \"que...  \n",
       "6  [{ \"stepId\" : \"5c8a78336d41a10da4f730ef\", \"que...  \n",
       "7  [{ \"stepId\" : \"5c8a78336d41a10da4f730ef\", \"que...  \n",
       "8  [{ \"stepId\" : \"5c8a78336d41a10da4f730ef\", \"que...  \n",
       "9  [{ \"stepId\" : \"5c8a78336d41a10da4f730ef\", \"que...  "
      ]
     },
     "execution_count": 84,
     "metadata": {},
     "output_type": "execute_result"
    }
   ],
   "source": [
    "visitors_df.head(10)"
   ]
  },
  {
   "cell_type": "markdown",
   "metadata": {},
   "source": [
    "#### Visitor data has following features\n",
    "- Email\n",
    "- Gender\n",
    "- Id (Unique feature)\n",
    "- data (It shows the question answer related information)"
   ]
  },
  {
   "cell_type": "code",
   "execution_count": 85,
   "metadata": {},
   "outputs": [
    {
     "data": {
      "text/plain": [
       "'[{ \"stepId\" : \"5c8a78336d41a10da4f730ef\", \"questionId\" : \"5c8a78336d41a10da4f730f0\", \"answerValue\" : \"\", \"answerId\" : \"5c8a78336d41a10da4f730f2\", \"answerTypeId\" : \"Answer\" }, { \"stepId\" : \"6507da8d9e117216630ef7ed\", \"questionId\" : \"6507de7e9e117216630ef7f2\", \"answerValue\" : \"emilija+100_L8gA@bss.mk\", \"answerId\" : \"\", \"answerTypeId\" : \"Answer\" }, { \"stepId\" : \"6507dfbb9e117216630ef7f3\", \"questionId\" : \"6507e0219e117216630ef7f5\", \"answerValue\" : \"3138\", \"answerId\" : \"\", \"answerTypeId\" : \"Answer\" }, { \"stepId\" : \"5c8a78336d41a10da4f733ce\", \"questionId\" : \"5c8a78336d41a10da4f733d8\", \"answerValue\" : \"Eme\", \"answerId\" : \"\", \"answerTypeId\" : \"Answer\" }, { \"stepId\" : \"5c8a78336d41a10da4f733ce\", \"questionId\" : \"5c8a78336d41a10da4f733e2\", \"answerValue\" : \"Jankova\", \"answerId\" : \"\", \"answerTypeId\" : \"Answer\" }, { \"stepId\" : \"5c8a78336d41a10da4f733ce\", \"questionId\" : \"5c8a78336d41a10da4f733cf\", \"answerValue\" : \"Emilija\", \"answerId\" : \"\", \"answerTypeId\" : \"Answer\" }, { \"stepId\" : \"5c8a78336d41a10da4f733ce\", \"questionId\" : \"5c8a78336d41a10da4f733d9\", \"answerValue\" : \"\", \"answerId\" : \"5c8a78336d41a10da4f733de\", \"answerTypeId\" : \"Answer\" }, { \"stepId\" : \"5c8a78336d41a10da4f730f3\", \"questionId\" : \"5c8a78336d41a10da4f730f4\", \"answerValue\" : \"Russia\", \"answerId\" : \"5c8a78346d41a10da4f7348e\", \"answerTypeId\" : \"Country\" }, { \"stepId\" : \"5c8a78336d41a10da4f730f3\", \"questionId\" : \"5c8a78336d41a10da4f730f4\", \"answerValue\" : \"Komi Republic\", \"answerId\" : \"5c8a78346d41a10da4f734a6\", \"answerTypeId\" : \"Region\" }, { \"stepId\" : \"5c8a78336d41a10da4f730f3\", \"questionId\" : \"5c8a78336d41a10da4f730f5\", \"answerValue\" : \"Komi\", \"answerId\" : \"\", \"answerTypeId\" : \"Answer\" }, { \"stepId\" : \"5c8a78336d41a10da4f730f3\", \"questionId\" : \"5c8a78336d41a10da4f730fb\", \"answerValue\" : \"Ivo Ribar Lola 54a\", \"answerId\" : \"\", \"answerTypeId\" : \"Answer\" }, { \"stepId\" : \"5c8a78336d41a10da4f730f3\", \"questionId\" : \"5c8a78336d41a10da4f730fc\", \"answerValue\" : \"78877665\", \"answerId\" : \"\", \"answerTypeId\" : \"Answer\" }, { \"stepId\" : \"5c8a78336d41a10da4f730f3\", \"questionId\" : \"5c8a78336d41a10da4f730f7\", \"answerValue\" : true, \"answerId\" : \"\", \"answerTypeId\" : \"Answer\" }, { \"stepId\" : \"5c8a78336d41a10da4f730f3\", \"questionId\" : \"5d7a4eb1bd2e7e3e64f57a25\", \"answerValue\" : true, \"answerId\" : \"\", \"answerTypeId\" : \"Answer\" }, { \"stepId\" : \"5c8a78336d41a10da4f730fd\", \"questionId\" : \"5c8a78336d41a10da4f730fe\", \"answerValue\" : \"\", \"answerId\" : \"5c8a78336d41a10da4f73100\", \"answerTypeId\" : \"Answer\" }, { \"stepId\" : \"5c8a78336d41a10da4f730fd\", \"questionId\" : \"5c8a78336d41a10da4f73104\", \"answerValue\" : \"\", \"answerId\" : \"5c8a78336d41a10da4f7315f\", \"answerTypeId\" : \"Answer\" }, { \"stepId\" : \"5c8a78336d41a10da4f730fd\", \"questionId\" : \"5c8a78336d41a10da4f73104\", \"answerValue\" : \"\", \"answerId\" : \"67acad10197e604dd2722d08\", \"answerTypeId\" : \"Answer\" }, { \"stepId\" : \"65a51b5a097d28c29bcb7403\", \"questionId\" : \"65a51b7a097d28c29bcb7404\", \"answerValue\" : \"\", \"answerId\" : \"65a51b87097d28c29bcb7405\", \"answerTypeId\" : \"Answer\" }, { \"stepId\" : \"65a51b5a097d28c29bcb7403\", \"questionId\" : \"65a51b7a097d28c29bcb7404\", \"answerValue\" : \"\", \"answerId\" : \"65a51b9a097d28c29bcb7406\", \"answerTypeId\" : \"Answer\" }, { \"stepId\" : \"5c8a78336d41a10da4f73225\", \"questionId\" : \"5c8a78336d41a10da4f7324a\", \"answerValue\" : \"\", \"answerId\" : \"5c8a78336d41a10da4f7324e\", \"answerTypeId\" : \"Answer\" }, { \"stepId\" : \"5c8a78336d41a10da4f73225\", \"questionId\" : \"5c8a78336d41a10da4f73227\", \"answerValue\" : \"\", \"answerId\" : \"5c8a78336d41a10da4f73244\", \"answerTypeId\" : \"Answer\" }, { \"stepId\" : \"5c8a78336d41a10da4f73225\", \"questionId\" : \"5c8a78336d41a10da4f73226\", \"answerValue\" : \"BSS\", \"answerId\" : \"\", \"answerTypeId\" : \"Answer\" }, { \"stepId\" : \"5c8a78336d41a10da4f73225\", \"questionId\" : \"5c8a78336d41a10da4f73250\", \"answerValue\" : \"tester\", \"answerId\" : \"\", \"answerTypeId\" : \"Answer\" }, { \"stepId\" : \"5c8a78336d41a10da4f73252\", \"questionId\" : \"5c8a78336d41a10da4f73253\", \"answerValue\" : \"\", \"answerId\" : \"5c8a78336d41a10da4f73291\", \"answerTypeId\" : \"Answer\" }, { \"stepId\" : \"5c8a78336d41a10da4f73252\", \"questionId\" : \"5c8a78336d41a10da4f7334e\", \"answerValue\" : \"\", \"answerId\" : \"5c8a78336d41a10da4f7334f\", \"answerTypeId\" : \"Answer\" }, { \"stepId\" : \"5c8a78336d41a10da4f73252\", \"questionId\" : \"5c8a78336d41a10da4f7334e\", \"answerValue\" : \"\", \"answerId\" : \"5c8a78336d41a10da4f73350\", \"answerTypeId\" : \"Answer\" }, { \"stepId\" : \"5c8a78336d41a10da4f73252\", \"questionId\" : \"5c8a78336d41a10da4f73326\", \"answerValue\" : \"\", \"answerId\" : \"5c8a78336d41a10da4f73334\", \"answerTypeId\" : \"Answer\" }, { \"stepId\" : \"5c8a78336d41a10da4f73252\", \"questionId\" : \"5c8a78336d41a10da4f73358\", \"answerValue\" : \"\", \"answerId\" : \"5c8a78336d41a10da4f73359\", \"answerTypeId\" : \"Answer\" }, { \"stepId\" : \"5c8a78336d41a10da4f73252\", \"questionId\" : \"5c8a78336d41a10da4f73358\", \"answerValue\" : \"\", \"answerId\" : \"5c8a78336d41a10da4f7335b\", \"answerTypeId\" : \"Answer\" }, { \"stepId\" : \"5c8a78336d41a10da4f73252\", \"questionId\" : \"5c8a78336d41a10da4f73358\", \"answerValue\" : \"\", \"answerId\" : \"5c8a78336d41a10da4f7335c\", \"answerTypeId\" : \"Answer\" }, { \"stepId\" : \"5c8a78336d41a10da4f73252\", \"questionId\" : \"5c8a78336d41a10da4f732ed\", \"answerValue\" : \"\", \"answerId\" : \"5c8a78336d41a10da4f732ef\", \"answerTypeId\" : \"Answer\" }, { \"stepId\" : \"5c8a78336d41a10da4f7336c\", \"questionId\" : \"5c8a78336d41a10da4f7336d\", \"answerValue\" : \"\", \"answerId\" : \"5c8a78336d41a10da4f73371\", \"answerTypeId\" : \"Answer\" }, { \"stepId\" : \"5c8a78336d41a10da4f7337a\", \"questionId\" : \"5c8a78336d41a10da4f7337b\", \"answerValue\" : \"\", \"answerId\" : \"5c8a78336d41a10da4f7337c\", \"answerTypeId\" : \"Answer\" }, { \"stepId\" : \"5c8a78336d41a10da4f7337a\", \"questionId\" : \"5c8a78336d41a10da4f7337e\", \"answerValue\" : \"\", \"answerId\" : \"5c8a78336d41a10da4f7337f\", \"answerTypeId\" : \"Answer\" }]'"
      ]
     },
     "execution_count": 85,
     "metadata": {},
     "output_type": "execute_result"
    }
   ],
   "source": [
    "visitors_df[\"data\"][0]"
   ]
  },
  {
   "cell_type": "markdown",
   "metadata": {},
   "source": [
    "Out comes\n",
    "- Data column has list of question and answer data\n",
    "- each item has structure like\n",
    "- { \"stepId\" : \"5c8a78336d41a10da4f730ef\",\n",
    " \"questionId\" : \"5c8a78336d41a10da4f730f0\",\n",
    " \"answerValue\" : \"\", \n",
    " \"answerId\" : \"5c8a78336d41a10da4f730f2\",\n",
    " \"answerTypeId\" : \"Answer\" }"
   ]
  },
  {
   "cell_type": "code",
   "execution_count": 86,
   "metadata": {},
   "outputs": [
    {
     "data": {
      "text/plain": [
       "email           0.0\n",
       "gender          0.0\n",
       "id              0.0\n",
       "stepId          0.0\n",
       "questionId      0.0\n",
       "answerValue     0.0\n",
       "answerId        0.0\n",
       "answerTypeId    0.0\n",
       "dtype: float64"
      ]
     },
     "execution_count": 86,
     "metadata": {},
     "output_type": "execute_result"
    }
   ],
   "source": [
    "# Get the visitor data frame \n",
    "visitors_df = get_expanded_dataframe(visitors_df,\"data\",[\"email\",\"gender\",\"id\"],\n",
    "     [\"stepId\",\"questionId\",\"answerValue\",\"answerId\",\"answerTypeId\"])\n",
    "# Get the percentage of null value\n",
    "visitors_df.isnull().mean()*100"
   ]
  },
  {
   "cell_type": "markdown",
   "metadata": {},
   "source": [
    "##### Outcomes\n",
    "- There are no null value but there are empty values"
   ]
  },
  {
   "cell_type": "code",
   "execution_count": 87,
   "metadata": {},
   "outputs": [
    {
     "data": {
      "text/plain": [
       "email              0.000000\n",
       "gender             0.000000\n",
       "id                 0.000000\n",
       "stepId             0.000000\n",
       "questionId         0.000000\n",
       "answerValue        0.000000\n",
       "answerId           0.000000\n",
       "answerTypeId       0.000000\n",
       "questionTypeId    86.169084\n",
       "question          86.169084\n",
       "dtype: float64"
      ]
     },
     "execution_count": 87,
     "metadata": {},
     "output_type": "execute_result"
    }
   ],
   "source": [
    "visitor_question_df = get_merged_data_frame(df1 = visitors_df,\n",
    "                                             df2 = visitors_questions_df,\n",
    "                                             left_on = [\"questionId\",\"stepId\"],\n",
    "                                             right_on = [\"id\",\"stepId\"],\n",
    "                                             how = \"left\")\n",
    "visitor_question_df.drop(columns=[\"id_y\"], inplace = True)\n",
    "visitor_question_df.rename(columns={\"id_x\":\"id\"},inplace = True)\n",
    "visitor_question_df.head(5)\n",
    "visitor_question_df.isnull().mean()*100"
   ]
  },
  {
   "cell_type": "markdown",
   "metadata": {},
   "source": [
    "#### Observations\n",
    "- There are 86.17% questions missing from visitor profile\n",
    "- We can ignore these data points as we do not have questions so we can not do analysis"
   ]
  },
  {
   "cell_type": "code",
   "execution_count": 88,
   "metadata": {},
   "outputs": [
    {
     "data": {
      "text/html": [
       "<div>\n",
       "<style scoped>\n",
       "    .dataframe tbody tr th:only-of-type {\n",
       "        vertical-align: middle;\n",
       "    }\n",
       "\n",
       "    .dataframe tbody tr th {\n",
       "        vertical-align: top;\n",
       "    }\n",
       "\n",
       "    .dataframe thead th {\n",
       "        text-align: right;\n",
       "    }\n",
       "</style>\n",
       "<table border=\"1\" class=\"dataframe\">\n",
       "  <thead>\n",
       "    <tr style=\"text-align: right;\">\n",
       "      <th></th>\n",
       "      <th>email</th>\n",
       "      <th>gender</th>\n",
       "      <th>id</th>\n",
       "      <th>stepId</th>\n",
       "      <th>questionId</th>\n",
       "      <th>answerValue</th>\n",
       "      <th>answerId</th>\n",
       "      <th>answerTypeId</th>\n",
       "      <th>questionTypeId</th>\n",
       "      <th>question</th>\n",
       "      <th>answer</th>\n",
       "    </tr>\n",
       "  </thead>\n",
       "  <tbody>\n",
       "    <tr>\n",
       "      <th>0</th>\n",
       "      <td>emilija+100_L8gA@bss.mk</td>\n",
       "      <td>F</td>\n",
       "      <td>67b70a9f2d21f543a1096602</td>\n",
       "      <td>5c8a78336d41a10da4f730ef</td>\n",
       "      <td>5c8a78336d41a10da4f730f0</td>\n",
       "      <td></td>\n",
       "      <td>5c8a78336d41a10da4f730f2</td>\n",
       "      <td>Answer</td>\n",
       "      <td>NaN</td>\n",
       "      <td>NaN</td>\n",
       "      <td>NaN</td>\n",
       "    </tr>\n",
       "    <tr>\n",
       "      <th>1</th>\n",
       "      <td>emilija+100_L8gA@bss.mk</td>\n",
       "      <td>F</td>\n",
       "      <td>67b70a9f2d21f543a1096602</td>\n",
       "      <td>6507da8d9e117216630ef7ed</td>\n",
       "      <td>6507de7e9e117216630ef7f2</td>\n",
       "      <td>emilija+100_L8gA@bss.mk</td>\n",
       "      <td></td>\n",
       "      <td>Answer</td>\n",
       "      <td>NaN</td>\n",
       "      <td>NaN</td>\n",
       "      <td>NaN</td>\n",
       "    </tr>\n",
       "    <tr>\n",
       "      <th>2</th>\n",
       "      <td>emilija+100_L8gA@bss.mk</td>\n",
       "      <td>F</td>\n",
       "      <td>67b70a9f2d21f543a1096602</td>\n",
       "      <td>6507dfbb9e117216630ef7f3</td>\n",
       "      <td>6507e0219e117216630ef7f5</td>\n",
       "      <td>3138</td>\n",
       "      <td></td>\n",
       "      <td>Answer</td>\n",
       "      <td>NaN</td>\n",
       "      <td>NaN</td>\n",
       "      <td>NaN</td>\n",
       "    </tr>\n",
       "    <tr>\n",
       "      <th>3</th>\n",
       "      <td>emilija+100_L8gA@bss.mk</td>\n",
       "      <td>F</td>\n",
       "      <td>67b70a9f2d21f543a1096602</td>\n",
       "      <td>5c8a78336d41a10da4f733ce</td>\n",
       "      <td>5c8a78336d41a10da4f733d8</td>\n",
       "      <td>Eme</td>\n",
       "      <td></td>\n",
       "      <td>Answer</td>\n",
       "      <td>NaN</td>\n",
       "      <td>NaN</td>\n",
       "      <td>NaN</td>\n",
       "    </tr>\n",
       "    <tr>\n",
       "      <th>4</th>\n",
       "      <td>emilija+100_L8gA@bss.mk</td>\n",
       "      <td>F</td>\n",
       "      <td>67b70a9f2d21f543a1096602</td>\n",
       "      <td>5c8a78336d41a10da4f733ce</td>\n",
       "      <td>5c8a78336d41a10da4f733e2</td>\n",
       "      <td>Jankova</td>\n",
       "      <td></td>\n",
       "      <td>Answer</td>\n",
       "      <td>NaN</td>\n",
       "      <td>NaN</td>\n",
       "      <td>NaN</td>\n",
       "    </tr>\n",
       "    <tr>\n",
       "      <th>5</th>\n",
       "      <td>emilija+100_L8gA@bss.mk</td>\n",
       "      <td>F</td>\n",
       "      <td>67b70a9f2d21f543a1096602</td>\n",
       "      <td>5c8a78336d41a10da4f733ce</td>\n",
       "      <td>5c8a78336d41a10da4f733cf</td>\n",
       "      <td>Emilija</td>\n",
       "      <td></td>\n",
       "      <td>Answer</td>\n",
       "      <td>NaN</td>\n",
       "      <td>NaN</td>\n",
       "      <td>NaN</td>\n",
       "    </tr>\n",
       "    <tr>\n",
       "      <th>6</th>\n",
       "      <td>emilija+100_L8gA@bss.mk</td>\n",
       "      <td>F</td>\n",
       "      <td>67b70a9f2d21f543a1096602</td>\n",
       "      <td>5c8a78336d41a10da4f733ce</td>\n",
       "      <td>5c8a78336d41a10da4f733d9</td>\n",
       "      <td></td>\n",
       "      <td>5c8a78336d41a10da4f733de</td>\n",
       "      <td>Answer</td>\n",
       "      <td>NaN</td>\n",
       "      <td>NaN</td>\n",
       "      <td>NaN</td>\n",
       "    </tr>\n",
       "    <tr>\n",
       "      <th>7</th>\n",
       "      <td>emilija+100_L8gA@bss.mk</td>\n",
       "      <td>F</td>\n",
       "      <td>67b70a9f2d21f543a1096602</td>\n",
       "      <td>5c8a78336d41a10da4f730f3</td>\n",
       "      <td>5c8a78336d41a10da4f730f4</td>\n",
       "      <td>Russia</td>\n",
       "      <td>5c8a78346d41a10da4f7348e</td>\n",
       "      <td>Country</td>\n",
       "      <td>NaN</td>\n",
       "      <td>NaN</td>\n",
       "      <td>NaN</td>\n",
       "    </tr>\n",
       "    <tr>\n",
       "      <th>8</th>\n",
       "      <td>emilija+100_L8gA@bss.mk</td>\n",
       "      <td>F</td>\n",
       "      <td>67b70a9f2d21f543a1096602</td>\n",
       "      <td>5c8a78336d41a10da4f730f3</td>\n",
       "      <td>5c8a78336d41a10da4f730f4</td>\n",
       "      <td>Komi Republic</td>\n",
       "      <td>5c8a78346d41a10da4f734a6</td>\n",
       "      <td>Region</td>\n",
       "      <td>NaN</td>\n",
       "      <td>NaN</td>\n",
       "      <td>NaN</td>\n",
       "    </tr>\n",
       "    <tr>\n",
       "      <th>9</th>\n",
       "      <td>emilija+100_L8gA@bss.mk</td>\n",
       "      <td>F</td>\n",
       "      <td>67b70a9f2d21f543a1096602</td>\n",
       "      <td>5c8a78336d41a10da4f730f3</td>\n",
       "      <td>5c8a78336d41a10da4f730f5</td>\n",
       "      <td>Komi</td>\n",
       "      <td></td>\n",
       "      <td>Answer</td>\n",
       "      <td>NaN</td>\n",
       "      <td>NaN</td>\n",
       "      <td>NaN</td>\n",
       "    </tr>\n",
       "  </tbody>\n",
       "</table>\n",
       "</div>"
      ],
      "text/plain": [
       "                     email gender                        id  \\\n",
       "0  emilija+100_L8gA@bss.mk      F  67b70a9f2d21f543a1096602   \n",
       "1  emilija+100_L8gA@bss.mk      F  67b70a9f2d21f543a1096602   \n",
       "2  emilija+100_L8gA@bss.mk      F  67b70a9f2d21f543a1096602   \n",
       "3  emilija+100_L8gA@bss.mk      F  67b70a9f2d21f543a1096602   \n",
       "4  emilija+100_L8gA@bss.mk      F  67b70a9f2d21f543a1096602   \n",
       "5  emilija+100_L8gA@bss.mk      F  67b70a9f2d21f543a1096602   \n",
       "6  emilija+100_L8gA@bss.mk      F  67b70a9f2d21f543a1096602   \n",
       "7  emilija+100_L8gA@bss.mk      F  67b70a9f2d21f543a1096602   \n",
       "8  emilija+100_L8gA@bss.mk      F  67b70a9f2d21f543a1096602   \n",
       "9  emilija+100_L8gA@bss.mk      F  67b70a9f2d21f543a1096602   \n",
       "\n",
       "                     stepId                questionId  \\\n",
       "0  5c8a78336d41a10da4f730ef  5c8a78336d41a10da4f730f0   \n",
       "1  6507da8d9e117216630ef7ed  6507de7e9e117216630ef7f2   \n",
       "2  6507dfbb9e117216630ef7f3  6507e0219e117216630ef7f5   \n",
       "3  5c8a78336d41a10da4f733ce  5c8a78336d41a10da4f733d8   \n",
       "4  5c8a78336d41a10da4f733ce  5c8a78336d41a10da4f733e2   \n",
       "5  5c8a78336d41a10da4f733ce  5c8a78336d41a10da4f733cf   \n",
       "6  5c8a78336d41a10da4f733ce  5c8a78336d41a10da4f733d9   \n",
       "7  5c8a78336d41a10da4f730f3  5c8a78336d41a10da4f730f4   \n",
       "8  5c8a78336d41a10da4f730f3  5c8a78336d41a10da4f730f4   \n",
       "9  5c8a78336d41a10da4f730f3  5c8a78336d41a10da4f730f5   \n",
       "\n",
       "               answerValue                  answerId answerTypeId  \\\n",
       "0                           5c8a78336d41a10da4f730f2       Answer   \n",
       "1  emilija+100_L8gA@bss.mk                                 Answer   \n",
       "2                     3138                                 Answer   \n",
       "3                      Eme                                 Answer   \n",
       "4                  Jankova                                 Answer   \n",
       "5                  Emilija                                 Answer   \n",
       "6                           5c8a78336d41a10da4f733de       Answer   \n",
       "7                   Russia  5c8a78346d41a10da4f7348e      Country   \n",
       "8            Komi Republic  5c8a78346d41a10da4f734a6       Region   \n",
       "9                     Komi                                 Answer   \n",
       "\n",
       "  questionTypeId question answer  \n",
       "0            NaN      NaN    NaN  \n",
       "1            NaN      NaN    NaN  \n",
       "2            NaN      NaN    NaN  \n",
       "3            NaN      NaN    NaN  \n",
       "4            NaN      NaN    NaN  \n",
       "5            NaN      NaN    NaN  \n",
       "6            NaN      NaN    NaN  \n",
       "7            NaN      NaN    NaN  \n",
       "8            NaN      NaN    NaN  \n",
       "9            NaN      NaN    NaN  "
      ]
     },
     "execution_count": 88,
     "metadata": {},
     "output_type": "execute_result"
    }
   ],
   "source": [
    "visitor_question_answer_df = get_merged_data_frame(visitor_question_df,visitors_answers_df,[\"answerId\",\"questionId\"],[\"id\",\"questionId\"],\"left\")\n",
    "# visitor_question_df.merge(visitors_answers_df, left_on=[\"answerId\",\"questionId\"],right_on=[\"id\",\"questionId\"],how=\"left\")\n",
    "visitor_question_answer_df.drop(columns=[\"id_y\"], inplace = True)\n",
    "visitor_question_answer_df.rename(columns={\"id_x\":\"id\"},inplace = True)\n",
    "visitor_question_answer_df.head(10)"
   ]
  },
  {
   "cell_type": "code",
   "execution_count": 89,
   "metadata": {},
   "outputs": [
    {
     "data": {
      "text/plain": [
       "email              0.000000\n",
       "gender             0.000000\n",
       "id                 0.000000\n",
       "stepId             0.000000\n",
       "questionId         0.000000\n",
       "answerValue        0.000000\n",
       "answerId           0.000000\n",
       "answerTypeId       0.000000\n",
       "questionTypeId    86.169084\n",
       "question          86.169084\n",
       "answer            87.230279\n",
       "dtype: float64"
      ]
     },
     "execution_count": 89,
     "metadata": {},
     "output_type": "execute_result"
    }
   ],
   "source": [
    "visitor_question_answer_df.isnull().mean()*100"
   ]
  },
  {
   "cell_type": "markdown",
   "metadata": {},
   "source": [
    "#### Observations\n",
    "- There are more missing value in answers csv file\n",
    "- It seems that 87.23% of answers are missing while 86.17 % questions were missing"
   ]
  },
  {
   "cell_type": "markdown",
   "metadata": {},
   "source": [
    "#### Before Cleaning Data analysis"
   ]
  },
  {
   "cell_type": "code",
   "execution_count": 90,
   "metadata": {},
   "outputs": [
    {
     "data": {
      "text/plain": [
       "email                0\n",
       "gender               0\n",
       "id                   0\n",
       "stepId               0\n",
       "questionId           0\n",
       "answerValue          0\n",
       "answerId             0\n",
       "answerTypeId         0\n",
       "questionTypeId    2436\n",
       "question             0\n",
       "answer               0\n",
       "dtype: int64"
      ]
     },
     "execution_count": 90,
     "metadata": {},
     "output_type": "execute_result"
    }
   ],
   "source": [
    "# Copy the data frame\n",
    "visitor_question_answer_with_null = visitor_question_answer_df.copy()\n",
    "# Fill Question null value with Unknown\n",
    "visitor_question_answer_with_null = fill_na(visitor_question_answer_with_null,\"question\",\"Unknown\")\n",
    "# Fill answer value with Unknown\n",
    "visitor_question_answer_with_null = fill_na(visitor_question_answer_with_null,\"answer\",\"Unknown\")\n",
    "# Sanity check the null value filled properly\n",
    "visitor_question_answer_with_null.isnull().sum()"
   ]
  },
  {
   "cell_type": "code",
   "execution_count": 91,
   "metadata": {},
   "outputs": [
    {
     "data": {
      "image/png": "[encoded data removed]",
      "text/plain": [
       "<Figure size 1000x800 with 1 Axes>"
      ]
     },
     "metadata": {},
     "output_type": "display_data"
    }
   ],
   "source": [
    "count_distributation_plot(visitor_question_answer_with_null,(10,8),\"gender\",\"Gender distributation\")"
   ]
  },
  {
   "cell_type": "markdown",
   "metadata": {},
   "source": [
    "#### Observations\n",
    "- From Distributation graph it seems that More number of Male visitor vist the exihibition\n",
    "- There is subtle difference between the number of Male and Feamle visitors so it can be considered as equal participation"
   ]
  },
  {
   "cell_type": "code",
   "execution_count": 92,
   "metadata": {},
   "outputs": [
    {
     "data": {
      "text/html": [
       "<div>\n",
       "<style scoped>\n",
       "    .dataframe tbody tr th:only-of-type {\n",
       "        vertical-align: middle;\n",
       "    }\n",
       "\n",
       "    .dataframe tbody tr th {\n",
       "        vertical-align: top;\n",
       "    }\n",
       "\n",
       "    .dataframe thead th {\n",
       "        text-align: right;\n",
       "    }\n",
       "</style>\n",
       "<table border=\"1\" class=\"dataframe\">\n",
       "  <thead>\n",
       "    <tr style=\"text-align: right;\">\n",
       "      <th></th>\n",
       "      <th>email</th>\n",
       "      <th>gender</th>\n",
       "      <th>id</th>\n",
       "      <th>stepId</th>\n",
       "      <th>questionId</th>\n",
       "      <th>answerValue</th>\n",
       "      <th>answerId</th>\n",
       "      <th>answerTypeId</th>\n",
       "      <th>questionTypeId</th>\n",
       "      <th>question</th>\n",
       "      <th>answer</th>\n",
       "    </tr>\n",
       "  </thead>\n",
       "  <tbody>\n",
       "    <tr>\n",
       "      <th>0</th>\n",
       "      <td>emilija+100_L8gA@bss.mk</td>\n",
       "      <td>F</td>\n",
       "      <td>67b70a9f2d21f543a1096602</td>\n",
       "      <td>5c8a78336d41a10da4f730ef</td>\n",
       "      <td>5c8a78336d41a10da4f730f0</td>\n",
       "      <td></td>\n",
       "      <td>5c8a78336d41a10da4f730f2</td>\n",
       "      <td>Answer</td>\n",
       "      <td>NaN</td>\n",
       "      <td>Unknown</td>\n",
       "      <td>Unknown</td>\n",
       "    </tr>\n",
       "    <tr>\n",
       "      <th>1</th>\n",
       "      <td>emilija+100_L8gA@bss.mk</td>\n",
       "      <td>F</td>\n",
       "      <td>67b70a9f2d21f543a1096602</td>\n",
       "      <td>6507da8d9e117216630ef7ed</td>\n",
       "      <td>6507de7e9e117216630ef7f2</td>\n",
       "      <td>emilija+100_L8gA@bss.mk</td>\n",
       "      <td></td>\n",
       "      <td>Answer</td>\n",
       "      <td>NaN</td>\n",
       "      <td>Unknown</td>\n",
       "      <td>Unknown</td>\n",
       "    </tr>\n",
       "    <tr>\n",
       "      <th>2</th>\n",
       "      <td>emilija+100_L8gA@bss.mk</td>\n",
       "      <td>F</td>\n",
       "      <td>67b70a9f2d21f543a1096602</td>\n",
       "      <td>6507dfbb9e117216630ef7f3</td>\n",
       "      <td>6507e0219e117216630ef7f5</td>\n",
       "      <td>3138</td>\n",
       "      <td></td>\n",
       "      <td>Answer</td>\n",
       "      <td>NaN</td>\n",
       "      <td>Unknown</td>\n",
       "      <td>Unknown</td>\n",
       "    </tr>\n",
       "    <tr>\n",
       "      <th>3</th>\n",
       "      <td>emilija+100_L8gA@bss.mk</td>\n",
       "      <td>F</td>\n",
       "      <td>67b70a9f2d21f543a1096602</td>\n",
       "      <td>5c8a78336d41a10da4f733ce</td>\n",
       "      <td>5c8a78336d41a10da4f733d8</td>\n",
       "      <td>Eme</td>\n",
       "      <td></td>\n",
       "      <td>Answer</td>\n",
       "      <td>NaN</td>\n",
       "      <td>Unknown</td>\n",
       "      <td>Unknown</td>\n",
       "    </tr>\n",
       "    <tr>\n",
       "      <th>4</th>\n",
       "      <td>emilija+100_L8gA@bss.mk</td>\n",
       "      <td>F</td>\n",
       "      <td>67b70a9f2d21f543a1096602</td>\n",
       "      <td>5c8a78336d41a10da4f733ce</td>\n",
       "      <td>5c8a78336d41a10da4f733e2</td>\n",
       "      <td>Jankova</td>\n",
       "      <td></td>\n",
       "      <td>Answer</td>\n",
       "      <td>NaN</td>\n",
       "      <td>Unknown</td>\n",
       "      <td>Unknown</td>\n",
       "    </tr>\n",
       "  </tbody>\n",
       "</table>\n",
       "</div>"
      ],
      "text/plain": [
       "                     email gender                        id  \\\n",
       "0  emilija+100_L8gA@bss.mk      F  67b70a9f2d21f543a1096602   \n",
       "1  emilija+100_L8gA@bss.mk      F  67b70a9f2d21f543a1096602   \n",
       "2  emilija+100_L8gA@bss.mk      F  67b70a9f2d21f543a1096602   \n",
       "3  emilija+100_L8gA@bss.mk      F  67b70a9f2d21f543a1096602   \n",
       "4  emilija+100_L8gA@bss.mk      F  67b70a9f2d21f543a1096602   \n",
       "\n",
       "                     stepId                questionId  \\\n",
       "0  5c8a78336d41a10da4f730ef  5c8a78336d41a10da4f730f0   \n",
       "1  6507da8d9e117216630ef7ed  6507de7e9e117216630ef7f2   \n",
       "2  6507dfbb9e117216630ef7f3  6507e0219e117216630ef7f5   \n",
       "3  5c8a78336d41a10da4f733ce  5c8a78336d41a10da4f733d8   \n",
       "4  5c8a78336d41a10da4f733ce  5c8a78336d41a10da4f733e2   \n",
       "\n",
       "               answerValue                  answerId answerTypeId  \\\n",
       "0                           5c8a78336d41a10da4f730f2       Answer   \n",
       "1  emilija+100_L8gA@bss.mk                                 Answer   \n",
       "2                     3138                                 Answer   \n",
       "3                      Eme                                 Answer   \n",
       "4                  Jankova                                 Answer   \n",
       "\n",
       "  questionTypeId question   answer  \n",
       "0            NaN  Unknown  Unknown  \n",
       "1            NaN  Unknown  Unknown  \n",
       "2            NaN  Unknown  Unknown  \n",
       "3            NaN  Unknown  Unknown  \n",
       "4            NaN  Unknown  Unknown  "
      ]
     },
     "execution_count": 92,
     "metadata": {},
     "output_type": "execute_result"
    }
   ],
   "source": [
    "visitor_question_answer_with_null.head()"
   ]
  },
  {
   "cell_type": "code",
   "execution_count": 93,
   "metadata": {},
   "outputs": [
    {
     "data": {
      "text/html": [
       "<div>\n",
       "<style scoped>\n",
       "    .dataframe tbody tr th:only-of-type {\n",
       "        vertical-align: middle;\n",
       "    }\n",
       "\n",
       "    .dataframe tbody tr th {\n",
       "        vertical-align: top;\n",
       "    }\n",
       "\n",
       "    .dataframe thead th {\n",
       "        text-align: right;\n",
       "    }\n",
       "</style>\n",
       "<table border=\"1\" class=\"dataframe\">\n",
       "  <thead>\n",
       "    <tr style=\"text-align: right;\">\n",
       "      <th></th>\n",
       "      <th>email</th>\n",
       "      <th>gender</th>\n",
       "      <th>id</th>\n",
       "      <th>stepId</th>\n",
       "      <th>questionId</th>\n",
       "      <th>answerValue</th>\n",
       "      <th>answerId</th>\n",
       "      <th>answerTypeId</th>\n",
       "      <th>questionTypeId</th>\n",
       "      <th>question</th>\n",
       "      <th>answer</th>\n",
       "      <th>stepId_int</th>\n",
       "    </tr>\n",
       "  </thead>\n",
       "  <tbody>\n",
       "    <tr>\n",
       "      <th>0</th>\n",
       "      <td>emilija+100_L8gA@bss.mk</td>\n",
       "      <td>F</td>\n",
       "      <td>67b70a9f2d21f543a1096602</td>\n",
       "      <td>5c8a78336d41a10da4f730ef</td>\n",
       "      <td>5c8a78336d41a10da4f730f0</td>\n",
       "      <td></td>\n",
       "      <td>5c8a78336d41a10da4f730f2</td>\n",
       "      <td>Answer</td>\n",
       "      <td>NaN</td>\n",
       "      <td>Unknown</td>\n",
       "      <td>Unknown</td>\n",
       "      <td>1</td>\n",
       "    </tr>\n",
       "    <tr>\n",
       "      <th>1</th>\n",
       "      <td>emilija+100_L8gA@bss.mk</td>\n",
       "      <td>F</td>\n",
       "      <td>67b70a9f2d21f543a1096602</td>\n",
       "      <td>6507da8d9e117216630ef7ed</td>\n",
       "      <td>6507de7e9e117216630ef7f2</td>\n",
       "      <td>emilija+100_L8gA@bss.mk</td>\n",
       "      <td></td>\n",
       "      <td>Answer</td>\n",
       "      <td>NaN</td>\n",
       "      <td>Unknown</td>\n",
       "      <td>Unknown</td>\n",
       "      <td>10</td>\n",
       "    </tr>\n",
       "    <tr>\n",
       "      <th>2</th>\n",
       "      <td>emilija+100_L8gA@bss.mk</td>\n",
       "      <td>F</td>\n",
       "      <td>67b70a9f2d21f543a1096602</td>\n",
       "      <td>6507dfbb9e117216630ef7f3</td>\n",
       "      <td>6507e0219e117216630ef7f5</td>\n",
       "      <td>3138</td>\n",
       "      <td></td>\n",
       "      <td>Answer</td>\n",
       "      <td>NaN</td>\n",
       "      <td>Unknown</td>\n",
       "      <td>Unknown</td>\n",
       "      <td>11</td>\n",
       "    </tr>\n",
       "    <tr>\n",
       "      <th>3</th>\n",
       "      <td>emilija+100_L8gA@bss.mk</td>\n",
       "      <td>F</td>\n",
       "      <td>67b70a9f2d21f543a1096602</td>\n",
       "      <td>5c8a78336d41a10da4f733ce</td>\n",
       "      <td>5c8a78336d41a10da4f733d8</td>\n",
       "      <td>Eme</td>\n",
       "      <td></td>\n",
       "      <td>Answer</td>\n",
       "      <td>NaN</td>\n",
       "      <td>Unknown</td>\n",
       "      <td>Unknown</td>\n",
       "      <td>9</td>\n",
       "    </tr>\n",
       "    <tr>\n",
       "      <th>4</th>\n",
       "      <td>emilija+100_L8gA@bss.mk</td>\n",
       "      <td>F</td>\n",
       "      <td>67b70a9f2d21f543a1096602</td>\n",
       "      <td>5c8a78336d41a10da4f733ce</td>\n",
       "      <td>5c8a78336d41a10da4f733e2</td>\n",
       "      <td>Jankova</td>\n",
       "      <td></td>\n",
       "      <td>Answer</td>\n",
       "      <td>NaN</td>\n",
       "      <td>Unknown</td>\n",
       "      <td>Unknown</td>\n",
       "      <td>9</td>\n",
       "    </tr>\n",
       "  </tbody>\n",
       "</table>\n",
       "</div>"
      ],
      "text/plain": [
       "                     email gender                        id  \\\n",
       "0  emilija+100_L8gA@bss.mk      F  67b70a9f2d21f543a1096602   \n",
       "1  emilija+100_L8gA@bss.mk      F  67b70a9f2d21f543a1096602   \n",
       "2  emilija+100_L8gA@bss.mk      F  67b70a9f2d21f543a1096602   \n",
       "3  emilija+100_L8gA@bss.mk      F  67b70a9f2d21f543a1096602   \n",
       "4  emilija+100_L8gA@bss.mk      F  67b70a9f2d21f543a1096602   \n",
       "\n",
       "                     stepId                questionId  \\\n",
       "0  5c8a78336d41a10da4f730ef  5c8a78336d41a10da4f730f0   \n",
       "1  6507da8d9e117216630ef7ed  6507de7e9e117216630ef7f2   \n",
       "2  6507dfbb9e117216630ef7f3  6507e0219e117216630ef7f5   \n",
       "3  5c8a78336d41a10da4f733ce  5c8a78336d41a10da4f733d8   \n",
       "4  5c8a78336d41a10da4f733ce  5c8a78336d41a10da4f733e2   \n",
       "\n",
       "               answerValue                  answerId answerTypeId  \\\n",
       "0                           5c8a78336d41a10da4f730f2       Answer   \n",
       "1  emilija+100_L8gA@bss.mk                                 Answer   \n",
       "2                     3138                                 Answer   \n",
       "3                      Eme                                 Answer   \n",
       "4                  Jankova                                 Answer   \n",
       "\n",
       "  questionTypeId question   answer  stepId_int  \n",
       "0            NaN  Unknown  Unknown           1  \n",
       "1            NaN  Unknown  Unknown          10  \n",
       "2            NaN  Unknown  Unknown          11  \n",
       "3            NaN  Unknown  Unknown           9  \n",
       "4            NaN  Unknown  Unknown           9  "
      ]
     },
     "execution_count": 93,
     "metadata": {},
     "output_type": "execute_result"
    }
   ],
   "source": [
    "# Map stepId to stepId_int due to large length of stepId\n",
    "visitor_question_answer_with_null[\"stepId_int\"] = visitor_question_answer_with_null.groupby(\"stepId\").ngroup() + 1\n",
    "visitor_question_answer_with_null.head()"
   ]
  },
  {
   "cell_type": "code",
   "execution_count": 94,
   "metadata": {},
   "outputs": [
    {
     "data": {
      "image/png": "[encoded data removed]",
      "text/plain": [
       "<Figure size 800x400 with 1 Axes>"
      ]
     },
     "metadata": {},
     "output_type": "display_data"
    }
   ],
   "source": [
    "# Step Id count per step\n",
    "step_counts = visitor_question_answer_with_null[\"stepId_int\"].value_counts(normalize=True) * 100\n",
    "plt.figure(figsize=(8,4))\n",
    "sns.barplot(x=step_counts.index, y=step_counts.values, palette=\"viridis\")\n",
    "plt.xlabel(\"Step ID\")\n",
    "plt.ylabel(\"Percentage of Visitors\")\n",
    "plt.title(\"Step-wise visitor Engagement\")\n",
    "plt.show()"
   ]
  },
  {
   "cell_type": "markdown",
   "metadata": {},
   "source": [
    "#### Observations\n",
    "- From the above graph it seems that step 2, 6,9 are more engagable step\n",
    "- Step 4 is least engage step\n",
    "- Rest are seems average engagement"
   ]
  },
  {
   "cell_type": "code",
   "execution_count": 95,
   "metadata": {},
   "outputs": [
    {
     "name": "stdout",
     "output_type": "stream",
     "text": [
      "Top 10 Questions:\n",
      "question\n",
      "Unknown                                                             2436\n",
      "Reason for Attending the Event                                       100\n",
      "Which of the following best describes your job function?              87\n",
      "Please indicate your company's main area of business                  87\n",
      "What role do you play in the purchasing decision making process?      87\n",
      "What is your company's annual purchasing budget?                      30\n",
      "Name: count, dtype: int64 \n",
      "\n",
      "Top 10 Answers:\n",
      "answer\n",
      "Unknown                             2466\n",
      "Travel Agent                          54\n",
      "To source products and services       35\n",
      "No influence                          30\n",
      "Advisory role                         27\n",
      "To obtain general information         24\n",
      "To promote products and services      20\n",
      "Tour Operator                         19\n",
      "Up to 1 million rubles                18\n",
      "Joint responsibility                  18\n",
      "Name: count, dtype: int64 \n",
      "\n"
     ]
    }
   ],
   "source": [
    "top_questions = visitor_question_answer_with_null[\"question\"].value_counts().head(10)\n",
    "top_answers = visitor_question_answer_with_null[\"answer\"].value_counts().head(10)\n",
    "# Print Most Asked Questions\n",
    "print(\"Top 10 Questions:\")\n",
    "print(top_questions, \"\\n\")\n",
    "\n",
    "# Print Most Selected Answers\n",
    "print(\"Top 10 Answers:\")\n",
    "print(top_answers, \"\\n\")"
   ]
  },
  {
   "cell_type": "markdown",
   "metadata": {},
   "source": [
    "#### Observation\n",
    "- Most freaquently question is 'Reason for attending the event'\n",
    "- Least asked question is the 'What is your company's annual purchasing budget'\n",
    "- Most frequent answer is Travel agent , To source product and service\n",
    "- Least frequent answer is Up to 1 million rubles, Joint responsibility"
   ]
  },
  {
   "cell_type": "code",
   "execution_count": 96,
   "metadata": {},
   "outputs": [
    {
     "name": "stderr",
     "output_type": "stream",
     "text": [
      "/opt/anaconda3/lib/python3.11/site-packages/seaborn/_oldcore.py:1119: FutureWarning: use_inf_as_na option is deprecated and will be removed in a future version. Convert inf values to NaN before operating instead.\n",
      "  with pd.option_context('mode.use_inf_as_na', True):\n"
     ]
    },
    {
     "data": {
      "image/png": "[encoded data removed]",
      "text/plain": [
       "<Figure size 640x480 with 1 Axes>"
      ]
     },
     "metadata": {},
     "output_type": "display_data"
    }
   ],
   "source": [
    "# Visitor segmentation on the basis of unique question they answered\n",
    "visitor_segmentation = visitor_question_answer_with_null.groupby(\"email\")[\"question\"].nunique()\n",
    "sns.histplot(visitor_segmentation, bins=20, kde=True)\n",
    "plt.title(\"Visitor Segmentation: Unique Questions Answered\")\n",
    "plt.xlabel(\"Number of Unique Questions Answered\")\n",
    "plt.ylabel(\"Count of Visitors\")\n",
    "plt.show()"
   ]
  },
  {
   "cell_type": "markdown",
   "metadata": {},
   "source": [
    "#### Analysis after removing the null value in The questions"
   ]
  },
  {
   "cell_type": "code",
   "execution_count": 97,
   "metadata": {},
   "outputs": [
    {
     "data": {
      "text/plain": [
       "email             0.000000\n",
       "gender            0.000000\n",
       "id                0.000000\n",
       "stepId            0.000000\n",
       "questionId        0.000000\n",
       "answerValue       0.000000\n",
       "answerId          0.000000\n",
       "answerTypeId      0.000000\n",
       "questionTypeId    0.000000\n",
       "question          0.000000\n",
       "answer            7.672634\n",
       "dtype: float64"
      ]
     },
     "execution_count": 97,
     "metadata": {},
     "output_type": "execute_result"
    }
   ],
   "source": [
    "visitor_question_answer_df = visitor_question_answer_df[~visitor_question_answer_df[\"question\"].isnull()]\n",
    "visitor_question_answer_df.isnull().mean()*100"
   ]
  },
  {
   "cell_type": "code",
   "execution_count": 98,
   "metadata": {},
   "outputs": [
    {
     "data": {
      "text/plain": [
       "(391, 11)"
      ]
     },
     "execution_count": 98,
     "metadata": {},
     "output_type": "execute_result"
    }
   ],
   "source": [
    "visitor_question_answer_df.shape"
   ]
  },
  {
   "cell_type": "markdown",
   "metadata": {},
   "source": [
    "#### Observations\n",
    "- There are 391 data points after deletions of data points which do not have questions\n",
    "- There are 11 features"
   ]
  },
  {
   "cell_type": "code",
   "execution_count": 99,
   "metadata": {},
   "outputs": [
    {
     "data": {
      "text/plain": [
       "email             0.0\n",
       "gender            0.0\n",
       "id                0.0\n",
       "stepId            0.0\n",
       "questionId        0.0\n",
       "answerValue       0.0\n",
       "answerId          0.0\n",
       "answerTypeId      0.0\n",
       "questionTypeId    0.0\n",
       "question          0.0\n",
       "answer            0.0\n",
       "dtype: float64"
      ]
     },
     "execution_count": 99,
     "metadata": {},
     "output_type": "execute_result"
    }
   ],
   "source": [
    "# Fill answer value with Unknown\n",
    "visitor_question_answer_df = fill_na(visitor_question_answer_df,\"answer\",\"Unknown\")\n",
    "visitor_question_answer_df.isnull().mean()*100"
   ]
  },
  {
   "cell_type": "code",
   "execution_count": 100,
   "metadata": {},
   "outputs": [
    {
     "data": {
      "image/png": "[encoded data removed]",
      "text/plain": [
       "<Figure size 1000x800 with 1 Axes>"
      ]
     },
     "metadata": {},
     "output_type": "display_data"
    }
   ],
   "source": [
    "# Map stepId to stepId_int due to large length of stepId\n",
    "count_distributation_plot(visitor_question_answer_df,(10,8),\"gender\",\"Gender distributation\")"
   ]
  },
  {
   "cell_type": "markdown",
   "metadata": {},
   "source": [
    "#### Observations\n",
    "- From Distributation graph it seems that More number of Male visitor vist the exihibition\n",
    "- There is subtle difference between the number of Male and Feamle visitors so it can be considered as equal participation"
   ]
  },
  {
   "cell_type": "code",
   "execution_count": 101,
   "metadata": {},
   "outputs": [
    {
     "data": {
      "text/html": [
       "<div>\n",
       "<style scoped>\n",
       "    .dataframe tbody tr th:only-of-type {\n",
       "        vertical-align: middle;\n",
       "    }\n",
       "\n",
       "    .dataframe tbody tr th {\n",
       "        vertical-align: top;\n",
       "    }\n",
       "\n",
       "    .dataframe thead th {\n",
       "        text-align: right;\n",
       "    }\n",
       "</style>\n",
       "<table border=\"1\" class=\"dataframe\">\n",
       "  <thead>\n",
       "    <tr style=\"text-align: right;\">\n",
       "      <th></th>\n",
       "      <th>email</th>\n",
       "      <th>gender</th>\n",
       "      <th>id</th>\n",
       "      <th>stepId</th>\n",
       "      <th>questionId</th>\n",
       "      <th>answerValue</th>\n",
       "      <th>answerId</th>\n",
       "      <th>answerTypeId</th>\n",
       "      <th>questionTypeId</th>\n",
       "      <th>question</th>\n",
       "      <th>answer</th>\n",
       "      <th>stepId_int</th>\n",
       "    </tr>\n",
       "  </thead>\n",
       "  <tbody>\n",
       "    <tr>\n",
       "      <th>14</th>\n",
       "      <td>emilija+100_L8gA@bss.mk</td>\n",
       "      <td>F</td>\n",
       "      <td>67b70a9f2d21f543a1096602</td>\n",
       "      <td>5c8a78336d41a10da4f730fd</td>\n",
       "      <td>5c8a78336d41a10da4f730fe</td>\n",
       "      <td></td>\n",
       "      <td>5c8a78336d41a10da4f73100</td>\n",
       "      <td>Answer</td>\n",
       "      <td>5bf7c399b82beb7a182cc3de</td>\n",
       "      <td>Reason for Attending the Event</td>\n",
       "      <td>To obtain general information</td>\n",
       "      <td>1</td>\n",
       "    </tr>\n",
       "    <tr>\n",
       "      <th>20</th>\n",
       "      <td>emilija+100_L8gA@bss.mk</td>\n",
       "      <td>F</td>\n",
       "      <td>67b70a9f2d21f543a1096602</td>\n",
       "      <td>5c8a78336d41a10da4f73225</td>\n",
       "      <td>5c8a78336d41a10da4f73227</td>\n",
       "      <td></td>\n",
       "      <td>5c8a78336d41a10da4f73244</td>\n",
       "      <td>Answer</td>\n",
       "      <td>5bf7c399b82beb7a182cc3de</td>\n",
       "      <td>Which of the following best describes your job...</td>\n",
       "      <td>Media</td>\n",
       "      <td>2</td>\n",
       "    </tr>\n",
       "    <tr>\n",
       "      <th>23</th>\n",
       "      <td>emilija+100_L8gA@bss.mk</td>\n",
       "      <td>F</td>\n",
       "      <td>67b70a9f2d21f543a1096602</td>\n",
       "      <td>5c8a78336d41a10da4f73252</td>\n",
       "      <td>5c8a78336d41a10da4f73253</td>\n",
       "      <td></td>\n",
       "      <td>5c8a78336d41a10da4f73291</td>\n",
       "      <td>Answer</td>\n",
       "      <td>5bf7c399b82beb7a182cc3de</td>\n",
       "      <td>Please indicate your company's main area of bu...</td>\n",
       "      <td>Travel Agent</td>\n",
       "      <td>3</td>\n",
       "    </tr>\n",
       "    <tr>\n",
       "      <th>31</th>\n",
       "      <td>emilija+100_L8gA@bss.mk</td>\n",
       "      <td>F</td>\n",
       "      <td>67b70a9f2d21f543a1096602</td>\n",
       "      <td>5c8a78336d41a10da4f7336c</td>\n",
       "      <td>5c8a78336d41a10da4f7336d</td>\n",
       "      <td></td>\n",
       "      <td>5c8a78336d41a10da4f73371</td>\n",
       "      <td>Answer</td>\n",
       "      <td>5bf7c399b82beb7a182cc3de</td>\n",
       "      <td>What role do you play in the purchasing decisi...</td>\n",
       "      <td>No influence</td>\n",
       "      <td>4</td>\n",
       "    </tr>\n",
       "    <tr>\n",
       "      <th>47</th>\n",
       "      <td>aleksandar.dimkov+mitt1_n5eA@bss.com.mk</td>\n",
       "      <td>M</td>\n",
       "      <td>67ada1ee197e604dd2722d1b</td>\n",
       "      <td>5c8a78336d41a10da4f730fd</td>\n",
       "      <td>5c8a78336d41a10da4f730fe</td>\n",
       "      <td></td>\n",
       "      <td>5c8a78336d41a10da4f730ff</td>\n",
       "      <td>Answer</td>\n",
       "      <td>5bf7c399b82beb7a182cc3de</td>\n",
       "      <td>Reason for Attending the Event</td>\n",
       "      <td>To source products and services</td>\n",
       "      <td>1</td>\n",
       "    </tr>\n",
       "  </tbody>\n",
       "</table>\n",
       "</div>"
      ],
      "text/plain": [
       "                                      email gender                        id  \\\n",
       "14                  emilija+100_L8gA@bss.mk      F  67b70a9f2d21f543a1096602   \n",
       "20                  emilija+100_L8gA@bss.mk      F  67b70a9f2d21f543a1096602   \n",
       "23                  emilija+100_L8gA@bss.mk      F  67b70a9f2d21f543a1096602   \n",
       "31                  emilija+100_L8gA@bss.mk      F  67b70a9f2d21f543a1096602   \n",
       "47  aleksandar.dimkov+mitt1_n5eA@bss.com.mk      M  67ada1ee197e604dd2722d1b   \n",
       "\n",
       "                      stepId                questionId answerValue  \\\n",
       "14  5c8a78336d41a10da4f730fd  5c8a78336d41a10da4f730fe               \n",
       "20  5c8a78336d41a10da4f73225  5c8a78336d41a10da4f73227               \n",
       "23  5c8a78336d41a10da4f73252  5c8a78336d41a10da4f73253               \n",
       "31  5c8a78336d41a10da4f7336c  5c8a78336d41a10da4f7336d               \n",
       "47  5c8a78336d41a10da4f730fd  5c8a78336d41a10da4f730fe               \n",
       "\n",
       "                    answerId answerTypeId            questionTypeId  \\\n",
       "14  5c8a78336d41a10da4f73100       Answer  5bf7c399b82beb7a182cc3de   \n",
       "20  5c8a78336d41a10da4f73244       Answer  5bf7c399b82beb7a182cc3de   \n",
       "23  5c8a78336d41a10da4f73291       Answer  5bf7c399b82beb7a182cc3de   \n",
       "31  5c8a78336d41a10da4f73371       Answer  5bf7c399b82beb7a182cc3de   \n",
       "47  5c8a78336d41a10da4f730ff       Answer  5bf7c399b82beb7a182cc3de   \n",
       "\n",
       "                                             question  \\\n",
       "14                     Reason for Attending the Event   \n",
       "20  Which of the following best describes your job...   \n",
       "23  Please indicate your company's main area of bu...   \n",
       "31  What role do you play in the purchasing decisi...   \n",
       "47                     Reason for Attending the Event   \n",
       "\n",
       "                             answer  stepId_int  \n",
       "14    To obtain general information           1  \n",
       "20                            Media           2  \n",
       "23                     Travel Agent           3  \n",
       "31                     No influence           4  \n",
       "47  To source products and services           1  "
      ]
     },
     "execution_count": 101,
     "metadata": {},
     "output_type": "execute_result"
    }
   ],
   "source": [
    "visitor_question_answer_df[\"stepId_int\"] = visitor_question_answer_df.groupby(\"stepId\").ngroup() + 1\n",
    "visitor_question_answer_df.head()"
   ]
  },
  {
   "cell_type": "code",
   "execution_count": 102,
   "metadata": {},
   "outputs": [
    {
     "data": {
      "image/png": "[encoded data removed]",
      "text/plain": [
       "<Figure size 800x400 with 1 Axes>"
      ]
     },
     "metadata": {},
     "output_type": "display_data"
    }
   ],
   "source": [
    "# Step Id count per step\n",
    "step_counts = visitor_question_answer_df[\"stepId_int\"].value_counts(normalize=True) * 100\n",
    "plt.figure(figsize=(8,4))\n",
    "sns.barplot(x=step_counts.index, y=step_counts.values, palette=\"viridis\")\n",
    "plt.xlabel(\"Step ID\")\n",
    "plt.ylabel(\"Percentage of Visitors\")\n",
    "plt.title(\"Step-wise visitor Engagement\")\n",
    "plt.show()"
   ]
  },
  {
   "cell_type": "markdown",
   "metadata": {},
   "source": [
    "#### Observations\n",
    "- From the above graph it seems that step 1,4 more engagable step\n",
    "- Step 2,3 is least engage step"
   ]
  },
  {
   "cell_type": "code",
   "execution_count": 103,
   "metadata": {},
   "outputs": [
    {
     "name": "stdout",
     "output_type": "stream",
     "text": [
      "Top 10 Questions:\n",
      "question\n",
      "Reason for Attending the Event                                      100\n",
      "Which of the following best describes your job function?             87\n",
      "Please indicate your company's main area of business                 87\n",
      "What role do you play in the purchasing decision making process?     87\n",
      "What is your company's annual purchasing budget?                     30\n",
      "Name: count, dtype: int64 \n",
      "\n",
      "Top 10 Answers:\n",
      "answer\n",
      "Travel Agent                        54\n",
      "To source products and services     35\n",
      "No influence                        30\n",
      "Unknown                             30\n",
      "Advisory role                       27\n",
      "To obtain general information       24\n",
      "To promote products and services    20\n",
      "Tour Operator                       19\n",
      "Joint responsibility                18\n",
      "Up to 1 million rubles              18\n",
      "Name: count, dtype: int64 \n",
      "\n"
     ]
    }
   ],
   "source": [
    "top_questions = visitor_question_answer_df[\"question\"].value_counts().head(10)\n",
    "top_answers = visitor_question_answer_df[\"answer\"].value_counts().head(10)\n",
    "# Print Most Asked Questions\n",
    "print(\"Top 10 Questions:\")\n",
    "print(top_questions, \"\\n\")\n",
    "\n",
    "# Print Most Selected Answers\n",
    "print(\"Top 10 Answers:\")\n",
    "print(top_answers, \"\\n\")"
   ]
  },
  {
   "cell_type": "markdown",
   "metadata": {},
   "source": [
    "#### Observation\n",
    "- Most freaquently question is 'Reason for attending the event'\n",
    "- Least asked question is the 'What is your company's annual purchasing budget'\n",
    "- Most frequent answer is Travel agent , To source product and service\n",
    "- Least frequent answer is Up to 1 million rubles, Joint responsibility"
   ]
  },
  {
   "cell_type": "code",
   "execution_count": 104,
   "metadata": {},
   "outputs": [
    {
     "name": "stderr",
     "output_type": "stream",
     "text": [
      "/opt/anaconda3/lib/python3.11/site-packages/seaborn/_oldcore.py:1119: FutureWarning: use_inf_as_na option is deprecated and will be removed in a future version. Convert inf values to NaN before operating instead.\n",
      "  with pd.option_context('mode.use_inf_as_na', True):\n"
     ]
    },
    {
     "data": {
      "image/png": "[encoded data removed]",
      "text/plain": [
       "<Figure size 640x480 with 1 Axes>"
      ]
     },
     "metadata": {},
     "output_type": "display_data"
    }
   ],
   "source": [
    "# Visitor segmentation on the basis of unique question they answered\n",
    "visitor_segmentation = visitor_question_answer_df.groupby(\"email\")[\"question\"].nunique()\n",
    "sns.histplot(visitor_segmentation, bins=20, kde=True)\n",
    "plt.title(\"Visitor Segmentation: Unique Questions Answered\")\n",
    "plt.xlabel(\"Number of Unique Questions Answered\")\n",
    "plt.ylabel(\"Count of Visitors\")\n",
    "plt.show()"
   ]
  },
  {
   "cell_type": "code",
   "execution_count": 105,
   "metadata": {},
   "outputs": [],
   "source": [
    "# Save the cleaned visitor file \n",
    "visitor_question_answer_df.to_csv(base_folder+\"clean_visitor_data\")"
   ]
  }
 ],
 "metadata": {
  "kernelspec": {
   "display_name": "base",
   "language": "python",
   "name": "python3"
  },
  "language_info": {
   "codemirror_mode": {
    "name": "ipython",
    "version": 3
   },
   "file_extension": ".py",
   "mimetype": "text/x-python",
   "name": "python",
   "nbconvert_exporter": "python",
   "pygments_lexer": "ipython3",
   "version": "3.11.7"
  }
 },
 "nbformat": 4,
 "nbformat_minor": 2
}
