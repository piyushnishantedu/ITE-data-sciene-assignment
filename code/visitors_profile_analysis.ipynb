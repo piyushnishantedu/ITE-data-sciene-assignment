{
 "cells": [
  {
   "cell_type": "markdown",
   "metadata": {},
   "source": [
    "### Libraries¶"
   ]
  },
  {
   "cell_type": "code",
   "execution_count": 3,
   "metadata": {},
   "outputs": [],
   "source": [
    "import pandas as pd\n",
    "import numpy as np\n",
    "import json"
   ]
  },
  {
   "cell_type": "markdown",
   "metadata": {},
   "source": [
    "### Helper functions"
   ]
  },
  {
   "cell_type": "code",
   "execution_count": 4,
   "metadata": {},
   "outputs": [],
   "source": [
    "def get_file_path(base_folder_path,file_name):\n",
    "    \"\"\"\n",
    "    This function takes the parameter base_folder_path and file_name\n",
    "    Return final path of file\n",
    "    \"\"\"\n",
    "    return base_folder_path + file_name\n",
    "\n",
    "def get_data_frame_from_csv(file_path):\n",
    "    \"\"\"\n",
    "    This function is used to create and return the data frame from csv file\n",
    "    parameters: file_path\n",
    "    return: Panda data frame\n",
    "    \"\"\"\n",
    "    return pd.read_csv(file_path)\n",
    "def get_expanded_dataframe(df,json_data_column,row_col_list,json_data_col_list):\n",
    "    \"\"\"\n",
    "    This function perform the operation on json data columns and explode the data points and return the final data frame\n",
    "\n",
    "    Args:\n",
    "        df (Pandas data frame): Original Data frame which has json column\n",
    "        json_data_column (String): Json data column name \n",
    "        row_col_list (List): List of feature which needs to be taken during explode\n",
    "        json_data_col_list (List): Json data key list\n",
    "\n",
    "    Returns:\n",
    "        Panda Dataframe: After explode of json data return the final data frame\n",
    "    \"\"\"\n",
    "    row_expaned = []\n",
    "    for _, row in df.iterrows():\n",
    "        json_data = json.loads(row[json_data_column])\n",
    "        for item_json in json_data:\n",
    "            data_dict = {}\n",
    "            for item in row_col_list:\n",
    "                data_dict[item] = row[item]\n",
    "            for item in json_data_col_list:\n",
    "                data_dict[item] = item_json[item]\n",
    "            row_expaned.append(data_dict)\n",
    "    return pd.DataFrame(row_expaned)\n",
    "    \n",
    "def get_merged_data_frame(df1,df2,left_on,right_on,how):\n",
    "    \"\"\"\n",
    "    This function merge the data frame\n",
    "\n",
    "    Args:\n",
    "        df1 (Pandas data frame): data frame\n",
    "        df2 (Pandas data frame): data frame\n",
    "        left_on (String or List): left column names\n",
    "        right_on (List or String): right column names\n",
    "        how (String): How is the join left,right,inner\n",
    "\n",
    "    Returns:\n",
    "        Pandas Data frame: Merged data frame\n",
    "    \"\"\"\n",
    "    return df1.merge(df2, left_on=left_on,right_on=right_on,how=how)"
   ]
  },
  {
   "cell_type": "markdown",
   "metadata": {},
   "source": [
    "### Data load"
   ]
  },
  {
   "cell_type": "code",
   "execution_count": 10,
   "metadata": {},
   "outputs": [],
   "source": [
    "# Base folder path\n",
    "base_folder = \"../source/\"\n",
    "# Vistors file path\n",
    "visitors_path = get_file_path(base_folder,\"visitors.csv\")\n",
    "# vistors questions file path\n",
    "visitors_questions_path = get_file_path(base_folder,\"visitors_questions.csv\")\n",
    "# visitors answers path\n",
    "visitors_answers_path = get_file_path(base_folder,\"visitors_answers.csv\")\n",
    "exhibitors_path = get_file_path(base_folder,\"exhibitors.csv\")\n",
    "exhibitors_categories_path = get_file_path(base_folder,\"exhibitor_categories.csv\")"
   ]
  },
  {
   "cell_type": "code",
   "execution_count": 11,
   "metadata": {},
   "outputs": [],
   "source": [
    "visitors_df = get_data_frame_from_csv(visitors_path) # Visitor data frame from visitors file\n",
    "visitors_questions_df = get_data_frame_from_csv(visitors_questions_path) # Visitors questions data frame from question file\n",
    "visitors_answers_df = get_data_frame_from_csv(visitors_answers_path) # Visitors answers data frame from answers file"
   ]
  },
  {
   "cell_type": "markdown",
   "metadata": {},
   "source": [
    "#### Data cleaning and processing"
   ]
  },
  {
   "cell_type": "code",
   "execution_count": 12,
   "metadata": {},
   "outputs": [
    {
     "data": {
      "text/html": [
       "<div>\n",
       "<style scoped>\n",
       "    .dataframe tbody tr th:only-of-type {\n",
       "        vertical-align: middle;\n",
       "    }\n",
       "\n",
       "    .dataframe tbody tr th {\n",
       "        vertical-align: top;\n",
       "    }\n",
       "\n",
       "    .dataframe thead th {\n",
       "        text-align: right;\n",
       "    }\n",
       "</style>\n",
       "<table border=\"1\" class=\"dataframe\">\n",
       "  <thead>\n",
       "    <tr style=\"text-align: right;\">\n",
       "      <th></th>\n",
       "      <th>email</th>\n",
       "      <th>gender</th>\n",
       "      <th>id</th>\n",
       "      <th>data</th>\n",
       "    </tr>\n",
       "  </thead>\n",
       "  <tbody>\n",
       "    <tr>\n",
       "      <th>0</th>\n",
       "      <td>emilija+100_L8gA@bss.mk</td>\n",
       "      <td>F</td>\n",
       "      <td>67b70a9f2d21f543a1096602</td>\n",
       "      <td>[{ \"stepId\" : \"5c8a78336d41a10da4f730ef\", \"que...</td>\n",
       "    </tr>\n",
       "    <tr>\n",
       "      <th>1</th>\n",
       "      <td>aleksandar.dimkov+mitt1_n5eA@bss.com.mk</td>\n",
       "      <td>M</td>\n",
       "      <td>67ada1ee197e604dd2722d1b</td>\n",
       "      <td>[{ \"stepId\" : \"5c8a78336d41a10da4f730ef\", \"que...</td>\n",
       "    </tr>\n",
       "    <tr>\n",
       "      <th>2</th>\n",
       "      <td>daniela.p+150_YhiF@bss.com.mk</td>\n",
       "      <td>F</td>\n",
       "      <td>67b44fef197e604dd2722d3d</td>\n",
       "      <td>[{ \"stepId\" : \"5c8a78336d41a10da4f730ef\", \"que...</td>\n",
       "    </tr>\n",
       "    <tr>\n",
       "      <th>3</th>\n",
       "      <td>tanja+182_jiPa@bss.com.mk</td>\n",
       "      <td>F</td>\n",
       "      <td>67b45018197e604dd2722d3e</td>\n",
       "      <td>[{ \"stepId\" : \"5c8a78336d41a10da4f730ef\", \"que...</td>\n",
       "    </tr>\n",
       "    <tr>\n",
       "      <th>4</th>\n",
       "      <td>aleksandar.dimkov+mitt10_V0iB@bss.com.mk</td>\n",
       "      <td>M</td>\n",
       "      <td>67b5f1392d21f543a10965f1</td>\n",
       "      <td>[{ \"stepId\" : \"5c8a78336d41a10da4f730ef\", \"que...</td>\n",
       "    </tr>\n",
       "    <tr>\n",
       "      <th>5</th>\n",
       "      <td>3990147_SeNs@gmail.com</td>\n",
       "      <td>M</td>\n",
       "      <td>67b5e0f7774d9e718c7541db</td>\n",
       "      <td>[{ \"stepId\" : \"5c8a78336d41a10da4f730ef\", \"que...</td>\n",
       "    </tr>\n",
       "    <tr>\n",
       "      <th>6</th>\n",
       "      <td>tanja+182_Ahsx@bss.mk</td>\n",
       "      <td>M</td>\n",
       "      <td>67b45356197e604dd2722d43</td>\n",
       "      <td>[{ \"stepId\" : \"5c8a78336d41a10da4f730ef\", \"que...</td>\n",
       "    </tr>\n",
       "    <tr>\n",
       "      <th>7</th>\n",
       "      <td>daniela.p+201_Fwae@bss.com.mk</td>\n",
       "      <td>M</td>\n",
       "      <td>67b47874197e604dd2722d6f</td>\n",
       "      <td>[{ \"stepId\" : \"5c8a78336d41a10da4f730ef\", \"que...</td>\n",
       "    </tr>\n",
       "    <tr>\n",
       "      <th>8</th>\n",
       "      <td>tanja+202_99oJ@bss.mk</td>\n",
       "      <td>F</td>\n",
       "      <td>67b708f32d21f543a10965fa</td>\n",
       "      <td>[{ \"stepId\" : \"5c8a78336d41a10da4f730ef\", \"que...</td>\n",
       "    </tr>\n",
       "    <tr>\n",
       "      <th>9</th>\n",
       "      <td>emilija+3_CmwU@bss.com.mk</td>\n",
       "      <td>F</td>\n",
       "      <td>67b46946197e604dd2722d5d</td>\n",
       "      <td>[{ \"stepId\" : \"5c8a78336d41a10da4f730ef\", \"que...</td>\n",
       "    </tr>\n",
       "  </tbody>\n",
       "</table>\n",
       "</div>"
      ],
      "text/plain": [
       "                                      email gender                        id  \\\n",
       "0                   emilija+100_L8gA@bss.mk      F  67b70a9f2d21f543a1096602   \n",
       "1   aleksandar.dimkov+mitt1_n5eA@bss.com.mk      M  67ada1ee197e604dd2722d1b   \n",
       "2             daniela.p+150_YhiF@bss.com.mk      F  67b44fef197e604dd2722d3d   \n",
       "3                 tanja+182_jiPa@bss.com.mk      F  67b45018197e604dd2722d3e   \n",
       "4  aleksandar.dimkov+mitt10_V0iB@bss.com.mk      M  67b5f1392d21f543a10965f1   \n",
       "5                    3990147_SeNs@gmail.com      M  67b5e0f7774d9e718c7541db   \n",
       "6                     tanja+182_Ahsx@bss.mk      M  67b45356197e604dd2722d43   \n",
       "7             daniela.p+201_Fwae@bss.com.mk      M  67b47874197e604dd2722d6f   \n",
       "8                     tanja+202_99oJ@bss.mk      F  67b708f32d21f543a10965fa   \n",
       "9                 emilija+3_CmwU@bss.com.mk      F  67b46946197e604dd2722d5d   \n",
       "\n",
       "                                                data  \n",
       "0  [{ \"stepId\" : \"5c8a78336d41a10da4f730ef\", \"que...  \n",
       "1  [{ \"stepId\" : \"5c8a78336d41a10da4f730ef\", \"que...  \n",
       "2  [{ \"stepId\" : \"5c8a78336d41a10da4f730ef\", \"que...  \n",
       "3  [{ \"stepId\" : \"5c8a78336d41a10da4f730ef\", \"que...  \n",
       "4  [{ \"stepId\" : \"5c8a78336d41a10da4f730ef\", \"que...  \n",
       "5  [{ \"stepId\" : \"5c8a78336d41a10da4f730ef\", \"que...  \n",
       "6  [{ \"stepId\" : \"5c8a78336d41a10da4f730ef\", \"que...  \n",
       "7  [{ \"stepId\" : \"5c8a78336d41a10da4f730ef\", \"que...  \n",
       "8  [{ \"stepId\" : \"5c8a78336d41a10da4f730ef\", \"que...  \n",
       "9  [{ \"stepId\" : \"5c8a78336d41a10da4f730ef\", \"que...  "
      ]
     },
     "execution_count": 12,
     "metadata": {},
     "output_type": "execute_result"
    }
   ],
   "source": [
    "visitors_df.head(10)"
   ]
  },
  {
   "cell_type": "markdown",
   "metadata": {},
   "source": [
    "#### Visitor data has following features\n",
    "- Email\n",
    "- Gender\n",
    "- Id (Unique feature)\n",
    "- data (It shows the question answer related information)"
   ]
  },
  {
   "cell_type": "code",
   "execution_count": 13,
   "metadata": {},
   "outputs": [
    {
     "data": {
      "text/plain": [
       "'[{ \"stepId\" : \"5c8a78336d41a10da4f730ef\", \"questionId\" : \"5c8a78336d41a10da4f730f0\", \"answerValue\" : \"\", \"answerId\" : \"5c8a78336d41a10da4f730f2\", \"answerTypeId\" : \"Answer\" }, { \"stepId\" : \"6507da8d9e117216630ef7ed\", \"questionId\" : \"6507de7e9e117216630ef7f2\", \"answerValue\" : \"emilija+100_L8gA@bss.mk\", \"answerId\" : \"\", \"answerTypeId\" : \"Answer\" }, { \"stepId\" : \"6507dfbb9e117216630ef7f3\", \"questionId\" : \"6507e0219e117216630ef7f5\", \"answerValue\" : \"3138\", \"answerId\" : \"\", \"answerTypeId\" : \"Answer\" }, { \"stepId\" : \"5c8a78336d41a10da4f733ce\", \"questionId\" : \"5c8a78336d41a10da4f733d8\", \"answerValue\" : \"Eme\", \"answerId\" : \"\", \"answerTypeId\" : \"Answer\" }, { \"stepId\" : \"5c8a78336d41a10da4f733ce\", \"questionId\" : \"5c8a78336d41a10da4f733e2\", \"answerValue\" : \"Jankova\", \"answerId\" : \"\", \"answerTypeId\" : \"Answer\" }, { \"stepId\" : \"5c8a78336d41a10da4f733ce\", \"questionId\" : \"5c8a78336d41a10da4f733cf\", \"answerValue\" : \"Emilija\", \"answerId\" : \"\", \"answerTypeId\" : \"Answer\" }, { \"stepId\" : \"5c8a78336d41a10da4f733ce\", \"questionId\" : \"5c8a78336d41a10da4f733d9\", \"answerValue\" : \"\", \"answerId\" : \"5c8a78336d41a10da4f733de\", \"answerTypeId\" : \"Answer\" }, { \"stepId\" : \"5c8a78336d41a10da4f730f3\", \"questionId\" : \"5c8a78336d41a10da4f730f4\", \"answerValue\" : \"Russia\", \"answerId\" : \"5c8a78346d41a10da4f7348e\", \"answerTypeId\" : \"Country\" }, { \"stepId\" : \"5c8a78336d41a10da4f730f3\", \"questionId\" : \"5c8a78336d41a10da4f730f4\", \"answerValue\" : \"Komi Republic\", \"answerId\" : \"5c8a78346d41a10da4f734a6\", \"answerTypeId\" : \"Region\" }, { \"stepId\" : \"5c8a78336d41a10da4f730f3\", \"questionId\" : \"5c8a78336d41a10da4f730f5\", \"answerValue\" : \"Komi\", \"answerId\" : \"\", \"answerTypeId\" : \"Answer\" }, { \"stepId\" : \"5c8a78336d41a10da4f730f3\", \"questionId\" : \"5c8a78336d41a10da4f730fb\", \"answerValue\" : \"Ivo Ribar Lola 54a\", \"answerId\" : \"\", \"answerTypeId\" : \"Answer\" }, { \"stepId\" : \"5c8a78336d41a10da4f730f3\", \"questionId\" : \"5c8a78336d41a10da4f730fc\", \"answerValue\" : \"78877665\", \"answerId\" : \"\", \"answerTypeId\" : \"Answer\" }, { \"stepId\" : \"5c8a78336d41a10da4f730f3\", \"questionId\" : \"5c8a78336d41a10da4f730f7\", \"answerValue\" : true, \"answerId\" : \"\", \"answerTypeId\" : \"Answer\" }, { \"stepId\" : \"5c8a78336d41a10da4f730f3\", \"questionId\" : \"5d7a4eb1bd2e7e3e64f57a25\", \"answerValue\" : true, \"answerId\" : \"\", \"answerTypeId\" : \"Answer\" }, { \"stepId\" : \"5c8a78336d41a10da4f730fd\", \"questionId\" : \"5c8a78336d41a10da4f730fe\", \"answerValue\" : \"\", \"answerId\" : \"5c8a78336d41a10da4f73100\", \"answerTypeId\" : \"Answer\" }, { \"stepId\" : \"5c8a78336d41a10da4f730fd\", \"questionId\" : \"5c8a78336d41a10da4f73104\", \"answerValue\" : \"\", \"answerId\" : \"5c8a78336d41a10da4f7315f\", \"answerTypeId\" : \"Answer\" }, { \"stepId\" : \"5c8a78336d41a10da4f730fd\", \"questionId\" : \"5c8a78336d41a10da4f73104\", \"answerValue\" : \"\", \"answerId\" : \"67acad10197e604dd2722d08\", \"answerTypeId\" : \"Answer\" }, { \"stepId\" : \"65a51b5a097d28c29bcb7403\", \"questionId\" : \"65a51b7a097d28c29bcb7404\", \"answerValue\" : \"\", \"answerId\" : \"65a51b87097d28c29bcb7405\", \"answerTypeId\" : \"Answer\" }, { \"stepId\" : \"65a51b5a097d28c29bcb7403\", \"questionId\" : \"65a51b7a097d28c29bcb7404\", \"answerValue\" : \"\", \"answerId\" : \"65a51b9a097d28c29bcb7406\", \"answerTypeId\" : \"Answer\" }, { \"stepId\" : \"5c8a78336d41a10da4f73225\", \"questionId\" : \"5c8a78336d41a10da4f7324a\", \"answerValue\" : \"\", \"answerId\" : \"5c8a78336d41a10da4f7324e\", \"answerTypeId\" : \"Answer\" }, { \"stepId\" : \"5c8a78336d41a10da4f73225\", \"questionId\" : \"5c8a78336d41a10da4f73227\", \"answerValue\" : \"\", \"answerId\" : \"5c8a78336d41a10da4f73244\", \"answerTypeId\" : \"Answer\" }, { \"stepId\" : \"5c8a78336d41a10da4f73225\", \"questionId\" : \"5c8a78336d41a10da4f73226\", \"answerValue\" : \"BSS\", \"answerId\" : \"\", \"answerTypeId\" : \"Answer\" }, { \"stepId\" : \"5c8a78336d41a10da4f73225\", \"questionId\" : \"5c8a78336d41a10da4f73250\", \"answerValue\" : \"tester\", \"answerId\" : \"\", \"answerTypeId\" : \"Answer\" }, { \"stepId\" : \"5c8a78336d41a10da4f73252\", \"questionId\" : \"5c8a78336d41a10da4f73253\", \"answerValue\" : \"\", \"answerId\" : \"5c8a78336d41a10da4f73291\", \"answerTypeId\" : \"Answer\" }, { \"stepId\" : \"5c8a78336d41a10da4f73252\", \"questionId\" : \"5c8a78336d41a10da4f7334e\", \"answerValue\" : \"\", \"answerId\" : \"5c8a78336d41a10da4f7334f\", \"answerTypeId\" : \"Answer\" }, { \"stepId\" : \"5c8a78336d41a10da4f73252\", \"questionId\" : \"5c8a78336d41a10da4f7334e\", \"answerValue\" : \"\", \"answerId\" : \"5c8a78336d41a10da4f73350\", \"answerTypeId\" : \"Answer\" }, { \"stepId\" : \"5c8a78336d41a10da4f73252\", \"questionId\" : \"5c8a78336d41a10da4f73326\", \"answerValue\" : \"\", \"answerId\" : \"5c8a78336d41a10da4f73334\", \"answerTypeId\" : \"Answer\" }, { \"stepId\" : \"5c8a78336d41a10da4f73252\", \"questionId\" : \"5c8a78336d41a10da4f73358\", \"answerValue\" : \"\", \"answerId\" : \"5c8a78336d41a10da4f73359\", \"answerTypeId\" : \"Answer\" }, { \"stepId\" : \"5c8a78336d41a10da4f73252\", \"questionId\" : \"5c8a78336d41a10da4f73358\", \"answerValue\" : \"\", \"answerId\" : \"5c8a78336d41a10da4f7335b\", \"answerTypeId\" : \"Answer\" }, { \"stepId\" : \"5c8a78336d41a10da4f73252\", \"questionId\" : \"5c8a78336d41a10da4f73358\", \"answerValue\" : \"\", \"answerId\" : \"5c8a78336d41a10da4f7335c\", \"answerTypeId\" : \"Answer\" }, { \"stepId\" : \"5c8a78336d41a10da4f73252\", \"questionId\" : \"5c8a78336d41a10da4f732ed\", \"answerValue\" : \"\", \"answerId\" : \"5c8a78336d41a10da4f732ef\", \"answerTypeId\" : \"Answer\" }, { \"stepId\" : \"5c8a78336d41a10da4f7336c\", \"questionId\" : \"5c8a78336d41a10da4f7336d\", \"answerValue\" : \"\", \"answerId\" : \"5c8a78336d41a10da4f73371\", \"answerTypeId\" : \"Answer\" }, { \"stepId\" : \"5c8a78336d41a10da4f7337a\", \"questionId\" : \"5c8a78336d41a10da4f7337b\", \"answerValue\" : \"\", \"answerId\" : \"5c8a78336d41a10da4f7337c\", \"answerTypeId\" : \"Answer\" }, { \"stepId\" : \"5c8a78336d41a10da4f7337a\", \"questionId\" : \"5c8a78336d41a10da4f7337e\", \"answerValue\" : \"\", \"answerId\" : \"5c8a78336d41a10da4f7337f\", \"answerTypeId\" : \"Answer\" }]'"
      ]
     },
     "execution_count": 13,
     "metadata": {},
     "output_type": "execute_result"
    }
   ],
   "source": [
    "visitors_df[\"data\"][0]"
   ]
  },
  {
   "cell_type": "markdown",
   "metadata": {},
   "source": [
    "Out comes\n",
    "- Data column has list of question and answer data\n",
    "- each item has structure like\n",
    "- { \"stepId\" : \"5c8a78336d41a10da4f730ef\",\n",
    " \"questionId\" : \"5c8a78336d41a10da4f730f0\",\n",
    " \"answerValue\" : \"\", \n",
    " \"answerId\" : \"5c8a78336d41a10da4f730f2\",\n",
    " \"answerTypeId\" : \"Answer\" }"
   ]
  },
  {
   "cell_type": "code",
   "execution_count": 14,
   "metadata": {},
   "outputs": [
    {
     "data": {
      "text/plain": [
       "email           0.0\n",
       "gender          0.0\n",
       "id              0.0\n",
       "stepId          0.0\n",
       "questionId      0.0\n",
       "answerValue     0.0\n",
       "answerId        0.0\n",
       "answerTypeId    0.0\n",
       "dtype: float64"
      ]
     },
     "execution_count": 14,
     "metadata": {},
     "output_type": "execute_result"
    }
   ],
   "source": [
    "# Get the visitor data frame \n",
    "visitors_df = get_expanded_dataframe(visitors_df,\"data\",[\"email\",\"gender\",\"id\"],\n",
    "     [\"stepId\",\"questionId\",\"answerValue\",\"answerId\",\"answerTypeId\"])\n",
    "# Get the percentage of null value\n",
    "visitors_df.isnull().mean()*100"
   ]
  },
  {
   "cell_type": "markdown",
   "metadata": {},
   "source": [
    "##### Outcomes\n",
    "- There are no null value but there are empty values"
   ]
  },
  {
   "cell_type": "code",
   "execution_count": 16,
   "metadata": {},
   "outputs": [
    {
     "data": {
      "text/plain": [
       "email              0.000000\n",
       "gender             0.000000\n",
       "id                 0.000000\n",
       "stepId             0.000000\n",
       "questionId         0.000000\n",
       "answerValue        0.000000\n",
       "answerId           0.000000\n",
       "answerTypeId       0.000000\n",
       "questionTypeId    86.169084\n",
       "question          86.169084\n",
       "dtype: float64"
      ]
     },
     "execution_count": 16,
     "metadata": {},
     "output_type": "execute_result"
    }
   ],
   "source": [
    "visitor_question_df = get_merged_data_frame(df1 = visitors_df,\n",
    "                                             df2 = visitors_questions_df,\n",
    "                                             left_on = [\"questionId\",\"stepId\"],\n",
    "                                             right_on = [\"id\",\"stepId\"],\n",
    "                                             how = \"left\")\n",
    "visitor_question_df.drop(columns=[\"id_y\"], inplace = True)\n",
    "visitor_question_df.rename(columns={\"id_x\":\"id\"},inplace = True)\n",
    "visitor_question_df.head(5)\n",
    "visitor_question_df.isnull().mean()*100"
   ]
  },
  {
   "cell_type": "markdown",
   "metadata": {},
   "source": [
    "#### Observations\n",
    "- There are 86.17% questions missing from visitor profile\n",
    "- We can ignore these data points as we do not have questions so we can not do analysis"
   ]
  },
  {
   "cell_type": "code",
   "execution_count": 17,
   "metadata": {},
   "outputs": [
    {
     "data": {
      "text/html": [
       "<div>\n",
       "<style scoped>\n",
       "    .dataframe tbody tr th:only-of-type {\n",
       "        vertical-align: middle;\n",
       "    }\n",
       "\n",
       "    .dataframe tbody tr th {\n",
       "        vertical-align: top;\n",
       "    }\n",
       "\n",
       "    .dataframe thead th {\n",
       "        text-align: right;\n",
       "    }\n",
       "</style>\n",
       "<table border=\"1\" class=\"dataframe\">\n",
       "  <thead>\n",
       "    <tr style=\"text-align: right;\">\n",
       "      <th></th>\n",
       "      <th>email</th>\n",
       "      <th>gender</th>\n",
       "      <th>id</th>\n",
       "      <th>stepId</th>\n",
       "      <th>questionId</th>\n",
       "      <th>answerValue</th>\n",
       "      <th>answerId</th>\n",
       "      <th>answerTypeId</th>\n",
       "      <th>questionTypeId</th>\n",
       "      <th>question</th>\n",
       "      <th>answer</th>\n",
       "    </tr>\n",
       "  </thead>\n",
       "  <tbody>\n",
       "    <tr>\n",
       "      <th>0</th>\n",
       "      <td>emilija+100_L8gA@bss.mk</td>\n",
       "      <td>F</td>\n",
       "      <td>67b70a9f2d21f543a1096602</td>\n",
       "      <td>5c8a78336d41a10da4f730ef</td>\n",
       "      <td>5c8a78336d41a10da4f730f0</td>\n",
       "      <td></td>\n",
       "      <td>5c8a78336d41a10da4f730f2</td>\n",
       "      <td>Answer</td>\n",
       "      <td>NaN</td>\n",
       "      <td>NaN</td>\n",
       "      <td>NaN</td>\n",
       "    </tr>\n",
       "    <tr>\n",
       "      <th>1</th>\n",
       "      <td>emilija+100_L8gA@bss.mk</td>\n",
       "      <td>F</td>\n",
       "      <td>67b70a9f2d21f543a1096602</td>\n",
       "      <td>6507da8d9e117216630ef7ed</td>\n",
       "      <td>6507de7e9e117216630ef7f2</td>\n",
       "      <td>emilija+100_L8gA@bss.mk</td>\n",
       "      <td></td>\n",
       "      <td>Answer</td>\n",
       "      <td>NaN</td>\n",
       "      <td>NaN</td>\n",
       "      <td>NaN</td>\n",
       "    </tr>\n",
       "    <tr>\n",
       "      <th>2</th>\n",
       "      <td>emilija+100_L8gA@bss.mk</td>\n",
       "      <td>F</td>\n",
       "      <td>67b70a9f2d21f543a1096602</td>\n",
       "      <td>6507dfbb9e117216630ef7f3</td>\n",
       "      <td>6507e0219e117216630ef7f5</td>\n",
       "      <td>3138</td>\n",
       "      <td></td>\n",
       "      <td>Answer</td>\n",
       "      <td>NaN</td>\n",
       "      <td>NaN</td>\n",
       "      <td>NaN</td>\n",
       "    </tr>\n",
       "    <tr>\n",
       "      <th>3</th>\n",
       "      <td>emilija+100_L8gA@bss.mk</td>\n",
       "      <td>F</td>\n",
       "      <td>67b70a9f2d21f543a1096602</td>\n",
       "      <td>5c8a78336d41a10da4f733ce</td>\n",
       "      <td>5c8a78336d41a10da4f733d8</td>\n",
       "      <td>Eme</td>\n",
       "      <td></td>\n",
       "      <td>Answer</td>\n",
       "      <td>NaN</td>\n",
       "      <td>NaN</td>\n",
       "      <td>NaN</td>\n",
       "    </tr>\n",
       "    <tr>\n",
       "      <th>4</th>\n",
       "      <td>emilija+100_L8gA@bss.mk</td>\n",
       "      <td>F</td>\n",
       "      <td>67b70a9f2d21f543a1096602</td>\n",
       "      <td>5c8a78336d41a10da4f733ce</td>\n",
       "      <td>5c8a78336d41a10da4f733e2</td>\n",
       "      <td>Jankova</td>\n",
       "      <td></td>\n",
       "      <td>Answer</td>\n",
       "      <td>NaN</td>\n",
       "      <td>NaN</td>\n",
       "      <td>NaN</td>\n",
       "    </tr>\n",
       "    <tr>\n",
       "      <th>5</th>\n",
       "      <td>emilija+100_L8gA@bss.mk</td>\n",
       "      <td>F</td>\n",
       "      <td>67b70a9f2d21f543a1096602</td>\n",
       "      <td>5c8a78336d41a10da4f733ce</td>\n",
       "      <td>5c8a78336d41a10da4f733cf</td>\n",
       "      <td>Emilija</td>\n",
       "      <td></td>\n",
       "      <td>Answer</td>\n",
       "      <td>NaN</td>\n",
       "      <td>NaN</td>\n",
       "      <td>NaN</td>\n",
       "    </tr>\n",
       "    <tr>\n",
       "      <th>6</th>\n",
       "      <td>emilija+100_L8gA@bss.mk</td>\n",
       "      <td>F</td>\n",
       "      <td>67b70a9f2d21f543a1096602</td>\n",
       "      <td>5c8a78336d41a10da4f733ce</td>\n",
       "      <td>5c8a78336d41a10da4f733d9</td>\n",
       "      <td></td>\n",
       "      <td>5c8a78336d41a10da4f733de</td>\n",
       "      <td>Answer</td>\n",
       "      <td>NaN</td>\n",
       "      <td>NaN</td>\n",
       "      <td>NaN</td>\n",
       "    </tr>\n",
       "    <tr>\n",
       "      <th>7</th>\n",
       "      <td>emilija+100_L8gA@bss.mk</td>\n",
       "      <td>F</td>\n",
       "      <td>67b70a9f2d21f543a1096602</td>\n",
       "      <td>5c8a78336d41a10da4f730f3</td>\n",
       "      <td>5c8a78336d41a10da4f730f4</td>\n",
       "      <td>Russia</td>\n",
       "      <td>5c8a78346d41a10da4f7348e</td>\n",
       "      <td>Country</td>\n",
       "      <td>NaN</td>\n",
       "      <td>NaN</td>\n",
       "      <td>NaN</td>\n",
       "    </tr>\n",
       "    <tr>\n",
       "      <th>8</th>\n",
       "      <td>emilija+100_L8gA@bss.mk</td>\n",
       "      <td>F</td>\n",
       "      <td>67b70a9f2d21f543a1096602</td>\n",
       "      <td>5c8a78336d41a10da4f730f3</td>\n",
       "      <td>5c8a78336d41a10da4f730f4</td>\n",
       "      <td>Komi Republic</td>\n",
       "      <td>5c8a78346d41a10da4f734a6</td>\n",
       "      <td>Region</td>\n",
       "      <td>NaN</td>\n",
       "      <td>NaN</td>\n",
       "      <td>NaN</td>\n",
       "    </tr>\n",
       "    <tr>\n",
       "      <th>9</th>\n",
       "      <td>emilija+100_L8gA@bss.mk</td>\n",
       "      <td>F</td>\n",
       "      <td>67b70a9f2d21f543a1096602</td>\n",
       "      <td>5c8a78336d41a10da4f730f3</td>\n",
       "      <td>5c8a78336d41a10da4f730f5</td>\n",
       "      <td>Komi</td>\n",
       "      <td></td>\n",
       "      <td>Answer</td>\n",
       "      <td>NaN</td>\n",
       "      <td>NaN</td>\n",
       "      <td>NaN</td>\n",
       "    </tr>\n",
       "  </tbody>\n",
       "</table>\n",
       "</div>"
      ],
      "text/plain": [
       "                     email gender                        id  \\\n",
       "0  emilija+100_L8gA@bss.mk      F  67b70a9f2d21f543a1096602   \n",
       "1  emilija+100_L8gA@bss.mk      F  67b70a9f2d21f543a1096602   \n",
       "2  emilija+100_L8gA@bss.mk      F  67b70a9f2d21f543a1096602   \n",
       "3  emilija+100_L8gA@bss.mk      F  67b70a9f2d21f543a1096602   \n",
       "4  emilija+100_L8gA@bss.mk      F  67b70a9f2d21f543a1096602   \n",
       "5  emilija+100_L8gA@bss.mk      F  67b70a9f2d21f543a1096602   \n",
       "6  emilija+100_L8gA@bss.mk      F  67b70a9f2d21f543a1096602   \n",
       "7  emilija+100_L8gA@bss.mk      F  67b70a9f2d21f543a1096602   \n",
       "8  emilija+100_L8gA@bss.mk      F  67b70a9f2d21f543a1096602   \n",
       "9  emilija+100_L8gA@bss.mk      F  67b70a9f2d21f543a1096602   \n",
       "\n",
       "                     stepId                questionId  \\\n",
       "0  5c8a78336d41a10da4f730ef  5c8a78336d41a10da4f730f0   \n",
       "1  6507da8d9e117216630ef7ed  6507de7e9e117216630ef7f2   \n",
       "2  6507dfbb9e117216630ef7f3  6507e0219e117216630ef7f5   \n",
       "3  5c8a78336d41a10da4f733ce  5c8a78336d41a10da4f733d8   \n",
       "4  5c8a78336d41a10da4f733ce  5c8a78336d41a10da4f733e2   \n",
       "5  5c8a78336d41a10da4f733ce  5c8a78336d41a10da4f733cf   \n",
       "6  5c8a78336d41a10da4f733ce  5c8a78336d41a10da4f733d9   \n",
       "7  5c8a78336d41a10da4f730f3  5c8a78336d41a10da4f730f4   \n",
       "8  5c8a78336d41a10da4f730f3  5c8a78336d41a10da4f730f4   \n",
       "9  5c8a78336d41a10da4f730f3  5c8a78336d41a10da4f730f5   \n",
       "\n",
       "               answerValue                  answerId answerTypeId  \\\n",
       "0                           5c8a78336d41a10da4f730f2       Answer   \n",
       "1  emilija+100_L8gA@bss.mk                                 Answer   \n",
       "2                     3138                                 Answer   \n",
       "3                      Eme                                 Answer   \n",
       "4                  Jankova                                 Answer   \n",
       "5                  Emilija                                 Answer   \n",
       "6                           5c8a78336d41a10da4f733de       Answer   \n",
       "7                   Russia  5c8a78346d41a10da4f7348e      Country   \n",
       "8            Komi Republic  5c8a78346d41a10da4f734a6       Region   \n",
       "9                     Komi                                 Answer   \n",
       "\n",
       "  questionTypeId question answer  \n",
       "0            NaN      NaN    NaN  \n",
       "1            NaN      NaN    NaN  \n",
       "2            NaN      NaN    NaN  \n",
       "3            NaN      NaN    NaN  \n",
       "4            NaN      NaN    NaN  \n",
       "5            NaN      NaN    NaN  \n",
       "6            NaN      NaN    NaN  \n",
       "7            NaN      NaN    NaN  \n",
       "8            NaN      NaN    NaN  \n",
       "9            NaN      NaN    NaN  "
      ]
     },
     "execution_count": 17,
     "metadata": {},
     "output_type": "execute_result"
    }
   ],
   "source": [
    "visitor_question_answer_df = get_merged_data_frame(visitor_question_df,visitors_answers_df,[\"answerId\",\"questionId\"],[\"id\",\"questionId\"],\"left\")\n",
    "# visitor_question_df.merge(visitors_answers_df, left_on=[\"answerId\",\"questionId\"],right_on=[\"id\",\"questionId\"],how=\"left\")\n",
    "visitor_question_answer_df.drop(columns=[\"id_y\"], inplace = True)\n",
    "visitor_question_answer_df.rename(columns={\"id_x\":\"id\"},inplace = True)\n",
    "visitor_question_answer_df.head(10)"
   ]
  },
  {
   "cell_type": "code",
   "execution_count": 18,
   "metadata": {},
   "outputs": [
    {
     "data": {
      "text/plain": [
       "email              0.000000\n",
       "gender             0.000000\n",
       "id                 0.000000\n",
       "stepId             0.000000\n",
       "questionId         0.000000\n",
       "answerValue        0.000000\n",
       "answerId           0.000000\n",
       "answerTypeId       0.000000\n",
       "questionTypeId    86.169084\n",
       "question          86.169084\n",
       "answer            87.230279\n",
       "dtype: float64"
      ]
     },
     "execution_count": 18,
     "metadata": {},
     "output_type": "execute_result"
    }
   ],
   "source": [
    "visitor_question_answer_df.isnull().mean()*100"
   ]
  },
  {
   "cell_type": "markdown",
   "metadata": {},
   "source": [
    "#### Observations\n",
    "- There are more missing value in answers csv file\n",
    "- It seems that 87.23% of answers are missing while 86.17 % questions were missing"
   ]
  },
  {
   "cell_type": "markdown",
   "metadata": {},
   "source": [
    "#### Before Cleaning Data analysis"
   ]
  },
  {
   "cell_type": "code",
   "execution_count": null,
   "metadata": {},
   "outputs": [],
   "source": []
  },
  {
   "cell_type": "code",
   "execution_count": null,
   "metadata": {},
   "outputs": [],
   "source": [
    "# visitor_question_answer_df = visitor_question_answer_df[~visitor_question_answer_df[\"question\"].isnull()]\n",
    "# visitor_question_answer_df.isnull().mean()*100"
   ]
  },
  {
   "cell_type": "code",
   "execution_count": null,
   "metadata": {},
   "outputs": [],
   "source": [
    "visitor_question_answer_df.shape"
   ]
  },
  {
   "cell_type": "markdown",
   "metadata": {},
   "source": [
    "#### Observations\n",
    "- There are 391 data points after deletions of data points which do not have questions\n",
    "- There are 11 features"
   ]
  },
  {
   "cell_type": "markdown",
   "metadata": {},
   "source": []
  }
 ],
 "metadata": {
  "kernelspec": {
   "display_name": "base",
   "language": "python",
   "name": "python3"
  },
  "language_info": {
   "codemirror_mode": {
    "name": "ipython",
    "version": 3
   },
   "file_extension": ".py",
   "mimetype": "text/x-python",
   "name": "python",
   "nbconvert_exporter": "python",
   "pygments_lexer": "ipython3",
   "version": "3.11.7"
  }
 },
 "nbformat": 4,
 "nbformat_minor": 2
}
