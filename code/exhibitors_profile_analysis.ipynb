{
 "cells": [
  {
   "cell_type": "markdown",
   "metadata": {},
   "source": [
    "### Libraries¶"
   ]
  },
  {
   "cell_type": "code",
   "execution_count": 32,
   "metadata": {},
   "outputs": [],
   "source": [
    "import pandas as pd\n",
    "import numpy as np\n",
    "import json\n",
    "import seaborn as sns\n",
    "import matplotlib.pyplot as plt"
   ]
  },
  {
   "cell_type": "markdown",
   "metadata": {},
   "source": [
    "### Helper functions"
   ]
  },
  {
   "cell_type": "code",
   "execution_count": 18,
   "metadata": {},
   "outputs": [],
   "source": [
    "def get_file_path(base_folder_path,file_name):\n",
    "    \"\"\"\n",
    "    This function takes the parameter base_folder_path and file_name\n",
    "    Return final path of file\n",
    "    \"\"\"\n",
    "    return base_folder_path + file_name\n",
    "\n",
    "def get_data_frame_from_csv(file_path):\n",
    "    \"\"\"\n",
    "    This function is used to create and return the data frame from csv file\n",
    "    parameters: file_path\n",
    "    return: Panda data frame\n",
    "    \"\"\"\n",
    "    return pd.read_csv(file_path)\n"
   ]
  },
  {
   "cell_type": "markdown",
   "metadata": {},
   "source": [
    "### Data load"
   ]
  },
  {
   "cell_type": "code",
   "execution_count": 19,
   "metadata": {},
   "outputs": [],
   "source": [
    "# Base folder path\n",
    "base_folder = \"../source/\"\n",
    "# Exihibitor file path\n",
    "exhibitors_path = get_file_path(base_folder,\"exhibitors.csv\")\n",
    "# Exhibitor categories path\n",
    "exhibitors_categories_path = get_file_path(base_folder,\"exhibitor_categories.csv\")"
   ]
  },
  {
   "cell_type": "code",
   "execution_count": 20,
   "metadata": {},
   "outputs": [],
   "source": [
    "exhibitors = get_data_frame_from_csv(exhibitors_path) #exhibitors exhibitors_categories\n",
    "exhibitors_categories = get_data_frame_from_csv(exhibitors_categories_path) # Exihibitor Categories data frame"
   ]
  },
  {
   "cell_type": "markdown",
   "metadata": {},
   "source": [
    "#### Data cleaning and processing"
   ]
  },
  {
   "cell_type": "code",
   "execution_count": 21,
   "metadata": {},
   "outputs": [
    {
     "data": {
      "text/html": [
       "<div>\n",
       "<style scoped>\n",
       "    .dataframe tbody tr th:only-of-type {\n",
       "        vertical-align: middle;\n",
       "    }\n",
       "\n",
       "    .dataframe tbody tr th {\n",
       "        vertical-align: top;\n",
       "    }\n",
       "\n",
       "    .dataframe thead th {\n",
       "        text-align: right;\n",
       "    }\n",
       "</style>\n",
       "<table border=\"1\" class=\"dataframe\">\n",
       "  <thead>\n",
       "    <tr style=\"text-align: right;\">\n",
       "      <th></th>\n",
       "      <th>exhibitorid</th>\n",
       "      <th>Name</th>\n",
       "      <th>MainCategories</th>\n",
       "    </tr>\n",
       "  </thead>\n",
       "  <tbody>\n",
       "    <tr>\n",
       "      <th>0</th>\n",
       "      <td>90556</td>\n",
       "      <td>Turkey Travels</td>\n",
       "      <td>52276|52280|52281</td>\n",
       "    </tr>\n",
       "    <tr>\n",
       "      <th>1</th>\n",
       "      <td>92462</td>\n",
       "      <td>Russian Travel Company</td>\n",
       "      <td>52273|52283|52289|52291|52298|52302</td>\n",
       "    </tr>\n",
       "    <tr>\n",
       "      <th>2</th>\n",
       "      <td>92491</td>\n",
       "      <td>Indian Travel Company</td>\n",
       "      <td>52273|52274|52281</td>\n",
       "    </tr>\n",
       "    <tr>\n",
       "      <th>3</th>\n",
       "      <td>92492</td>\n",
       "      <td>Asia Tourism</td>\n",
       "      <td>52272|52276|52352|52358</td>\n",
       "    </tr>\n",
       "    <tr>\n",
       "      <th>4</th>\n",
       "      <td>92493</td>\n",
       "      <td>SriLanka Adventures</td>\n",
       "      <td>52296|52327|52352</td>\n",
       "    </tr>\n",
       "  </tbody>\n",
       "</table>\n",
       "</div>"
      ],
      "text/plain": [
       "   exhibitorid                    Name                       MainCategories\n",
       "0        90556          Turkey Travels                    52276|52280|52281\n",
       "1        92462  Russian Travel Company  52273|52283|52289|52291|52298|52302\n",
       "2        92491   Indian Travel Company                    52273|52274|52281\n",
       "3        92492            Asia Tourism              52272|52276|52352|52358\n",
       "4        92493     SriLanka Adventures                    52296|52327|52352"
      ]
     },
     "execution_count": 21,
     "metadata": {},
     "output_type": "execute_result"
    }
   ],
   "source": [
    "exhibitors.head()"
   ]
  },
  {
   "cell_type": "markdown",
   "metadata": {},
   "source": [
    "#### Onservations\n",
    "- There are four features\n",
    "- exhibitorid:- It is unique identifier for exihibitor\n",
    "- Name:- Exihibitor Name\n",
    "- MainCategories:- This is the string in which categories are sepearted by |"
   ]
  },
  {
   "cell_type": "code",
   "execution_count": 22,
   "metadata": {},
   "outputs": [
    {
     "data": {
      "text/plain": [
       "exhibitorid       0\n",
       "Name              0\n",
       "MainCategories    0\n",
       "dtype: int64"
      ]
     },
     "execution_count": 22,
     "metadata": {},
     "output_type": "execute_result"
    }
   ],
   "source": [
    "# Get the null value counts of columns\n",
    "exhibitors.isna().sum()"
   ]
  },
  {
   "cell_type": "markdown",
   "metadata": {},
   "source": [
    "#### Observations\n",
    "- There are no column which has null value"
   ]
  },
  {
   "cell_type": "code",
   "execution_count": 23,
   "metadata": {},
   "outputs": [
    {
     "data": {
      "text/html": [
       "<div>\n",
       "<style scoped>\n",
       "    .dataframe tbody tr th:only-of-type {\n",
       "        vertical-align: middle;\n",
       "    }\n",
       "\n",
       "    .dataframe tbody tr th {\n",
       "        vertical-align: top;\n",
       "    }\n",
       "\n",
       "    .dataframe thead th {\n",
       "        text-align: right;\n",
       "    }\n",
       "</style>\n",
       "<table border=\"1\" class=\"dataframe\">\n",
       "  <thead>\n",
       "    <tr style=\"text-align: right;\">\n",
       "      <th></th>\n",
       "      <th>categoryId</th>\n",
       "      <th>categoryName</th>\n",
       "    </tr>\n",
       "  </thead>\n",
       "  <tbody>\n",
       "    <tr>\n",
       "      <th>0</th>\n",
       "      <td>52271</td>\n",
       "      <td>1. Accomodation providers</td>\n",
       "    </tr>\n",
       "    <tr>\n",
       "      <th>1</th>\n",
       "      <td>52272</td>\n",
       "      <td>1.1 Hotel / Hotel chain / Inn</td>\n",
       "    </tr>\n",
       "    <tr>\n",
       "      <th>2</th>\n",
       "      <td>52273</td>\n",
       "      <td>1.2 Apartments / Residential hotel</td>\n",
       "    </tr>\n",
       "    <tr>\n",
       "      <th>3</th>\n",
       "      <td>52274</td>\n",
       "      <td>1.3 Hostel / Motel</td>\n",
       "    </tr>\n",
       "    <tr>\n",
       "      <th>4</th>\n",
       "      <td>52275</td>\n",
       "      <td>1.4 Boarding house</td>\n",
       "    </tr>\n",
       "  </tbody>\n",
       "</table>\n",
       "</div>"
      ],
      "text/plain": [
       "   categoryId                        categoryName\n",
       "0       52271           1. Accomodation providers\n",
       "1       52272       1.1 Hotel / Hotel chain / Inn\n",
       "2       52273  1.2 Apartments / Residential hotel\n",
       "3       52274                  1.3 Hostel / Motel\n",
       "4       52275                  1.4 Boarding house"
      ]
     },
     "execution_count": 23,
     "metadata": {},
     "output_type": "execute_result"
    }
   ],
   "source": [
    "exhibitors_categories.head()"
   ]
  },
  {
   "cell_type": "markdown",
   "metadata": {},
   "source": [
    "#### Observations\n",
    "- Exihibitor Categories has two features\n",
    "- categoryid:- Uniquely identify the category\n",
    "- category name:- Some category name has back slash, we need to remove this"
   ]
  },
  {
   "cell_type": "code",
   "execution_count": 24,
   "metadata": {},
   "outputs": [
    {
     "data": {
      "text/plain": [
       "categoryId      0\n",
       "categoryName    0\n",
       "dtype: int64"
      ]
     },
     "execution_count": 24,
     "metadata": {},
     "output_type": "execute_result"
    }
   ],
   "source": [
    "# Exihibitor categories null value count\n",
    "exhibitors_categories.isna().sum()"
   ]
  },
  {
   "cell_type": "code",
   "execution_count": 25,
   "metadata": {},
   "outputs": [
    {
     "data": {
      "text/html": [
       "<div>\n",
       "<style scoped>\n",
       "    .dataframe tbody tr th:only-of-type {\n",
       "        vertical-align: middle;\n",
       "    }\n",
       "\n",
       "    .dataframe tbody tr th {\n",
       "        vertical-align: top;\n",
       "    }\n",
       "\n",
       "    .dataframe thead th {\n",
       "        text-align: right;\n",
       "    }\n",
       "</style>\n",
       "<table border=\"1\" class=\"dataframe\">\n",
       "  <thead>\n",
       "    <tr style=\"text-align: right;\">\n",
       "      <th></th>\n",
       "      <th>exhibitorid</th>\n",
       "      <th>Name</th>\n",
       "      <th>MainCategories</th>\n",
       "    </tr>\n",
       "  </thead>\n",
       "  <tbody>\n",
       "    <tr>\n",
       "      <th>0</th>\n",
       "      <td>90556</td>\n",
       "      <td>Turkey Travels</td>\n",
       "      <td>52276</td>\n",
       "    </tr>\n",
       "    <tr>\n",
       "      <th>0</th>\n",
       "      <td>90556</td>\n",
       "      <td>Turkey Travels</td>\n",
       "      <td>52280</td>\n",
       "    </tr>\n",
       "    <tr>\n",
       "      <th>0</th>\n",
       "      <td>90556</td>\n",
       "      <td>Turkey Travels</td>\n",
       "      <td>52281</td>\n",
       "    </tr>\n",
       "    <tr>\n",
       "      <th>1</th>\n",
       "      <td>92462</td>\n",
       "      <td>Russian Travel Company</td>\n",
       "      <td>52273</td>\n",
       "    </tr>\n",
       "    <tr>\n",
       "      <th>1</th>\n",
       "      <td>92462</td>\n",
       "      <td>Russian Travel Company</td>\n",
       "      <td>52283</td>\n",
       "    </tr>\n",
       "  </tbody>\n",
       "</table>\n",
       "</div>"
      ],
      "text/plain": [
       "   exhibitorid                    Name  MainCategories\n",
       "0        90556          Turkey Travels           52276\n",
       "0        90556          Turkey Travels           52280\n",
       "0        90556          Turkey Travels           52281\n",
       "1        92462  Russian Travel Company           52273\n",
       "1        92462  Russian Travel Company           52283"
      ]
     },
     "execution_count": 25,
     "metadata": {},
     "output_type": "execute_result"
    }
   ],
   "source": [
    "# Split the main category feature using pipe(|) sepeartor\n",
    "exhibitors[\"MainCategories\"] = exhibitors[\"MainCategories\"].str.split(\"|\")\n",
    "# Explode array of Main categories\n",
    "exhibitors_explode = exhibitors.explode(\"MainCategories\")\n",
    "# Cast Maincategories to int\n",
    "exhibitors_explode[\"MainCategories\"] = exhibitors_explode[\"MainCategories\"].astype(int)\n",
    "exhibitors_explode.head()"
   ]
  },
  {
   "cell_type": "code",
   "execution_count": 26,
   "metadata": {},
   "outputs": [
    {
     "data": {
      "text/html": [
       "<div>\n",
       "<style scoped>\n",
       "    .dataframe tbody tr th:only-of-type {\n",
       "        vertical-align: middle;\n",
       "    }\n",
       "\n",
       "    .dataframe tbody tr th {\n",
       "        vertical-align: top;\n",
       "    }\n",
       "\n",
       "    .dataframe thead th {\n",
       "        text-align: right;\n",
       "    }\n",
       "</style>\n",
       "<table border=\"1\" class=\"dataframe\">\n",
       "  <thead>\n",
       "    <tr style=\"text-align: right;\">\n",
       "      <th></th>\n",
       "      <th>exhibitorid</th>\n",
       "      <th>Name</th>\n",
       "      <th>MainCategories</th>\n",
       "      <th>categoryId</th>\n",
       "      <th>categoryName</th>\n",
       "    </tr>\n",
       "  </thead>\n",
       "  <tbody>\n",
       "    <tr>\n",
       "      <th>0</th>\n",
       "      <td>90556</td>\n",
       "      <td>Turkey Travels</td>\n",
       "      <td>52276</td>\n",
       "      <td>52276</td>\n",
       "      <td>1.5 Resort hotel</td>\n",
       "    </tr>\n",
       "    <tr>\n",
       "      <th>1</th>\n",
       "      <td>90556</td>\n",
       "      <td>Turkey Travels</td>\n",
       "      <td>52280</td>\n",
       "      <td>52280</td>\n",
       "      <td>2.1 Inbound tour operator</td>\n",
       "    </tr>\n",
       "    <tr>\n",
       "      <th>2</th>\n",
       "      <td>90556</td>\n",
       "      <td>Turkey Travels</td>\n",
       "      <td>52281</td>\n",
       "      <td>52281</td>\n",
       "      <td>2.2 Outbound tour operator</td>\n",
       "    </tr>\n",
       "    <tr>\n",
       "      <th>3</th>\n",
       "      <td>92462</td>\n",
       "      <td>Russian Travel Company</td>\n",
       "      <td>52273</td>\n",
       "      <td>52273</td>\n",
       "      <td>1.2 Apartments / Residential hotel</td>\n",
       "    </tr>\n",
       "    <tr>\n",
       "      <th>4</th>\n",
       "      <td>92462</td>\n",
       "      <td>Russian Travel Company</td>\n",
       "      <td>52283</td>\n",
       "      <td>52283</td>\n",
       "      <td>2.4 Mass market tour operators</td>\n",
       "    </tr>\n",
       "  </tbody>\n",
       "</table>\n",
       "</div>"
      ],
      "text/plain": [
       "   exhibitorid                    Name  MainCategories  categoryId  \\\n",
       "0        90556          Turkey Travels           52276       52276   \n",
       "1        90556          Turkey Travels           52280       52280   \n",
       "2        90556          Turkey Travels           52281       52281   \n",
       "3        92462  Russian Travel Company           52273       52273   \n",
       "4        92462  Russian Travel Company           52283       52283   \n",
       "\n",
       "                         categoryName  \n",
       "0                    1.5 Resort hotel  \n",
       "1           2.1 Inbound tour operator  \n",
       "2          2.2 Outbound tour operator  \n",
       "3  1.2 Apartments / Residential hotel  \n",
       "4      2.4 Mass market tour operators  "
      ]
     },
     "execution_count": 26,
     "metadata": {},
     "output_type": "execute_result"
    }
   ],
   "source": [
    "# Merge exhibitor and exhibitor categories \n",
    "exhibitors_final = exhibitors_explode.merge(exhibitors_categories, left_on = \"MainCategories\",right_on = \"categoryId\",how=\"left\")\n",
    "exhibitors_final.head()"
   ]
  },
  {
   "cell_type": "code",
   "execution_count": 27,
   "metadata": {},
   "outputs": [
    {
     "data": {
      "text/html": [
       "<div>\n",
       "<style scoped>\n",
       "    .dataframe tbody tr th:only-of-type {\n",
       "        vertical-align: middle;\n",
       "    }\n",
       "\n",
       "    .dataframe tbody tr th {\n",
       "        vertical-align: top;\n",
       "    }\n",
       "\n",
       "    .dataframe thead th {\n",
       "        text-align: right;\n",
       "    }\n",
       "</style>\n",
       "<table border=\"1\" class=\"dataframe\">\n",
       "  <thead>\n",
       "    <tr style=\"text-align: right;\">\n",
       "      <th></th>\n",
       "      <th>exhibitorid</th>\n",
       "      <th>Name</th>\n",
       "      <th>MainCategories</th>\n",
       "      <th>categoryId</th>\n",
       "      <th>categoryName</th>\n",
       "    </tr>\n",
       "  </thead>\n",
       "  <tbody>\n",
       "    <tr>\n",
       "      <th>0</th>\n",
       "      <td>90556</td>\n",
       "      <td>Turkey Travels</td>\n",
       "      <td>52276</td>\n",
       "      <td>52276</td>\n",
       "      <td>1.5 Resort hotel</td>\n",
       "    </tr>\n",
       "    <tr>\n",
       "      <th>1</th>\n",
       "      <td>90556</td>\n",
       "      <td>Turkey Travels</td>\n",
       "      <td>52280</td>\n",
       "      <td>52280</td>\n",
       "      <td>2.1 Inbound tour operator</td>\n",
       "    </tr>\n",
       "    <tr>\n",
       "      <th>2</th>\n",
       "      <td>90556</td>\n",
       "      <td>Turkey Travels</td>\n",
       "      <td>52281</td>\n",
       "      <td>52281</td>\n",
       "      <td>2.2 Outbound tour operator</td>\n",
       "    </tr>\n",
       "    <tr>\n",
       "      <th>3</th>\n",
       "      <td>92462</td>\n",
       "      <td>Russian Travel Company</td>\n",
       "      <td>52273</td>\n",
       "      <td>52273</td>\n",
       "      <td>1.2 Apartments   Residential hotel</td>\n",
       "    </tr>\n",
       "    <tr>\n",
       "      <th>4</th>\n",
       "      <td>92462</td>\n",
       "      <td>Russian Travel Company</td>\n",
       "      <td>52283</td>\n",
       "      <td>52283</td>\n",
       "      <td>2.4 Mass market tour operators</td>\n",
       "    </tr>\n",
       "  </tbody>\n",
       "</table>\n",
       "</div>"
      ],
      "text/plain": [
       "   exhibitorid                    Name  MainCategories  categoryId  \\\n",
       "0        90556          Turkey Travels           52276       52276   \n",
       "1        90556          Turkey Travels           52280       52280   \n",
       "2        90556          Turkey Travels           52281       52281   \n",
       "3        92462  Russian Travel Company           52273       52273   \n",
       "4        92462  Russian Travel Company           52283       52283   \n",
       "\n",
       "                         categoryName  \n",
       "0                    1.5 Resort hotel  \n",
       "1           2.1 Inbound tour operator  \n",
       "2          2.2 Outbound tour operator  \n",
       "3  1.2 Apartments   Residential hotel  \n",
       "4      2.4 Mass market tour operators  "
      ]
     },
     "execution_count": 27,
     "metadata": {},
     "output_type": "execute_result"
    }
   ],
   "source": [
    "# Remove the back slash (/) from category name\n",
    "exhibitors_final[\"categoryName\"] = exhibitors_final[\"categoryName\"].apply(lambda x: x.replace(\"/\", \" \"))\n",
    "exhibitors_final.head()"
   ]
  },
  {
   "cell_type": "code",
   "execution_count": 28,
   "metadata": {},
   "outputs": [
    {
     "data": {
      "text/html": [
       "<div>\n",
       "<style scoped>\n",
       "    .dataframe tbody tr th:only-of-type {\n",
       "        vertical-align: middle;\n",
       "    }\n",
       "\n",
       "    .dataframe tbody tr th {\n",
       "        vertical-align: top;\n",
       "    }\n",
       "\n",
       "    .dataframe thead th {\n",
       "        text-align: right;\n",
       "    }\n",
       "</style>\n",
       "<table border=\"1\" class=\"dataframe\">\n",
       "  <thead>\n",
       "    <tr style=\"text-align: right;\">\n",
       "      <th></th>\n",
       "      <th>exhibitorid</th>\n",
       "      <th>Name</th>\n",
       "      <th>categoryId</th>\n",
       "      <th>categoryName</th>\n",
       "    </tr>\n",
       "  </thead>\n",
       "  <tbody>\n",
       "    <tr>\n",
       "      <th>0</th>\n",
       "      <td>90556</td>\n",
       "      <td>Turkey Travels</td>\n",
       "      <td>52276</td>\n",
       "      <td>1.5 Resort hotel</td>\n",
       "    </tr>\n",
       "    <tr>\n",
       "      <th>1</th>\n",
       "      <td>90556</td>\n",
       "      <td>Turkey Travels</td>\n",
       "      <td>52280</td>\n",
       "      <td>2.1 Inbound tour operator</td>\n",
       "    </tr>\n",
       "    <tr>\n",
       "      <th>2</th>\n",
       "      <td>90556</td>\n",
       "      <td>Turkey Travels</td>\n",
       "      <td>52281</td>\n",
       "      <td>2.2 Outbound tour operator</td>\n",
       "    </tr>\n",
       "    <tr>\n",
       "      <th>3</th>\n",
       "      <td>92462</td>\n",
       "      <td>Russian Travel Company</td>\n",
       "      <td>52273</td>\n",
       "      <td>1.2 Apartments   Residential hotel</td>\n",
       "    </tr>\n",
       "    <tr>\n",
       "      <th>4</th>\n",
       "      <td>92462</td>\n",
       "      <td>Russian Travel Company</td>\n",
       "      <td>52283</td>\n",
       "      <td>2.4 Mass market tour operators</td>\n",
       "    </tr>\n",
       "  </tbody>\n",
       "</table>\n",
       "</div>"
      ],
      "text/plain": [
       "   exhibitorid                    Name  categoryId  \\\n",
       "0        90556          Turkey Travels       52276   \n",
       "1        90556          Turkey Travels       52280   \n",
       "2        90556          Turkey Travels       52281   \n",
       "3        92462  Russian Travel Company       52273   \n",
       "4        92462  Russian Travel Company       52283   \n",
       "\n",
       "                         categoryName  \n",
       "0                    1.5 Resort hotel  \n",
       "1           2.1 Inbound tour operator  \n",
       "2          2.2 Outbound tour operator  \n",
       "3  1.2 Apartments   Residential hotel  \n",
       "4      2.4 Mass market tour operators  "
      ]
     },
     "execution_count": 28,
     "metadata": {},
     "output_type": "execute_result"
    }
   ],
   "source": [
    "# Drop MainCategories column\n",
    "exhibitors_final.drop([\"MainCategories\"],axis = 1,inplace = True)\n",
    "exhibitors_final.head()"
   ]
  },
  {
   "cell_type": "code",
   "execution_count": 29,
   "metadata": {},
   "outputs": [
    {
     "data": {
      "text/plain": [
       "exhibitorid     0\n",
       "Name            0\n",
       "categoryId      0\n",
       "categoryName    0\n",
       "dtype: int64"
      ]
     },
     "execution_count": 29,
     "metadata": {},
     "output_type": "execute_result"
    }
   ],
   "source": [
    "# Get final data frame column null value count\n",
    "exhibitors_final.isna().sum()"
   ]
  },
  {
   "cell_type": "code",
   "execution_count": 30,
   "metadata": {},
   "outputs": [],
   "source": [
    "exhibitors_final.drop_duplicates(inplace=True)\n",
    "exhibitors_final.fillna(\"NA\", inplace=True)"
   ]
  },
  {
   "cell_type": "code",
   "execution_count": 40,
   "metadata": {},
   "outputs": [
    {
     "data": {
      "image/png": "[encoded data removed]",
      "text/plain": [
       "<Figure size 800x400 with 1 Axes>"
      ]
     },
     "metadata": {},
     "output_type": "display_data"
    }
   ],
   "source": [
    "plt.figure(figsize=(8,4))\n",
    "sns.countplot(data=exhibitors_final, x=\"categoryId\", palette=\"coolwarm\")\n",
    "plt.title(\"Exhibitor Category Distribution\")\n",
    "plt.show()"
   ]
  },
  {
   "cell_type": "code",
   "execution_count": 73,
   "metadata": {},
   "outputs": [
    {
     "data": {
      "image/png": "[encoded data removed]",
      "text/plain": [
       "<Figure size 800x400 with 1 Axes>"
      ]
     },
     "metadata": {},
     "output_type": "display_data"
    }
   ],
   "source": [
    "# To 10 categories on the basis of count\n",
    "top_ten_categories = exhibitors_final[\"categoryId\"].value_counts().head(10)\n",
    "plt.figure(figsize=(8,4))\n",
    "sns.barplot(x=top_ten_categories.index, y=top_ten_categories.values, palette=\"viridis\")\n",
    "plt.xlabel(\"Category ID\")\n",
    "plt.ylabel(\"Number of Exhibitors\")\n",
    "plt.title(\"Top 10 Categories with Most Exhibitors\")\n",
    "plt.show()"
   ]
  },
  {
   "cell_type": "code",
   "execution_count": 74,
   "metadata": {},
   "outputs": [
    {
     "data": {
      "text/plain": [
       "[52338, 52353, 52274, 52288, 52365, 52291, 52297, 52357, 52276, 52286]"
      ]
     },
     "execution_count": 74,
     "metadata": {},
     "output_type": "execute_result"
    }
   ],
   "source": [
    "#  top 10 category id list\n",
    "top_ten_categories.index.to_list() "
   ]
  },
  {
   "cell_type": "code",
   "execution_count": 60,
   "metadata": {},
   "outputs": [
    {
     "data": {
      "text/html": [
       "<div>\n",
       "<style scoped>\n",
       "    .dataframe tbody tr th:only-of-type {\n",
       "        vertical-align: middle;\n",
       "    }\n",
       "\n",
       "    .dataframe tbody tr th {\n",
       "        vertical-align: top;\n",
       "    }\n",
       "\n",
       "    .dataframe thead th {\n",
       "        text-align: right;\n",
       "    }\n",
       "</style>\n",
       "<table border=\"1\" class=\"dataframe\">\n",
       "  <thead>\n",
       "    <tr style=\"text-align: right;\">\n",
       "      <th></th>\n",
       "      <th>exhibitorid</th>\n",
       "      <th>Name</th>\n",
       "      <th>categoryId</th>\n",
       "      <th>categoryName</th>\n",
       "    </tr>\n",
       "  </thead>\n",
       "  <tbody>\n",
       "    <tr>\n",
       "      <th>10</th>\n",
       "      <td>92491</td>\n",
       "      <td>Indian Travel Company</td>\n",
       "      <td>52274</td>\n",
       "      <td>1.3 Hostel   Motel</td>\n",
       "    </tr>\n",
       "    <tr>\n",
       "      <th>19</th>\n",
       "      <td>92494</td>\n",
       "      <td>Exotic Europe Travels</td>\n",
       "      <td>52274</td>\n",
       "      <td>1.3 Hostel   Motel</td>\n",
       "    </tr>\n",
       "    <tr>\n",
       "      <th>44</th>\n",
       "      <td>68142</td>\n",
       "      <td>Global Tours Voyages</td>\n",
       "      <td>52274</td>\n",
       "      <td>1.3 Hostel   Motel</td>\n",
       "    </tr>\n",
       "    <tr>\n",
       "      <th>80</th>\n",
       "      <td>13033</td>\n",
       "      <td>Prime Vacations Expeditions</td>\n",
       "      <td>52274</td>\n",
       "      <td>1.3 Hostel   Motel</td>\n",
       "    </tr>\n",
       "    <tr>\n",
       "      <th>87</th>\n",
       "      <td>15881</td>\n",
       "      <td>Royal Trips Tours</td>\n",
       "      <td>52274</td>\n",
       "      <td>1.3 Hostel   Motel</td>\n",
       "    </tr>\n",
       "  </tbody>\n",
       "</table>\n",
       "</div>"
      ],
      "text/plain": [
       "    exhibitorid                         Name  categoryId        categoryName\n",
       "10        92491        Indian Travel Company       52274  1.3 Hostel   Motel\n",
       "19        92494        Exotic Europe Travels       52274  1.3 Hostel   Motel\n",
       "44        68142         Global Tours Voyages       52274  1.3 Hostel   Motel\n",
       "80        13033  Prime Vacations Expeditions       52274  1.3 Hostel   Motel\n",
       "87        15881            Royal Trips Tours       52274  1.3 Hostel   Motel"
      ]
     },
     "execution_count": 60,
     "metadata": {},
     "output_type": "execute_result"
    }
   ],
   "source": [
    "exhibitors_final[exhibitors_final[\"categoryId\"] == 52274].head()"
   ]
  },
  {
   "cell_type": "code",
   "execution_count": 75,
   "metadata": {},
   "outputs": [
    {
     "data": {
      "text/plain": [
       "['12.2 NTO: National tourism office',\n",
       " '14.6 Gastro tourism',\n",
       " '1.3 Hostel   Motel',\n",
       " '3.2 Authorized travel agency',\n",
       " '17.2 Payment service provider',\n",
       " '4.1 Search engine for travel   Aggregator',\n",
       " '5.5 Helicopter services',\n",
       " '15.1 Print media',\n",
       " '1.5 Resort hotel',\n",
       " '3. Travel  agencies']"
      ]
     },
     "execution_count": 75,
     "metadata": {},
     "output_type": "execute_result"
    }
   ],
   "source": [
    "top_categories_name = []\n",
    "top_categories = top_ten_categories.index.to_list()\n",
    "for categoryId in top_categories:\n",
    "    names = exhibitors_final[exhibitors_final[\"categoryId\"] == categoryId][\"categoryName\"].unique().tolist()\n",
    "    top_categories_name.extend(names)\n",
    "top_categories_name"
   ]
  },
  {
   "cell_type": "markdown",
   "metadata": {},
   "source": [
    "#### Observation\n",
    "- Top 10 exihibitor categories are\n",
    "- '12.2 NTO: National tourism office',\n",
    " '14.6 Gastro tourism',\n",
    " '1.3 Hostel   Motel',\n",
    " '3.2 Authorized travel agency',\n",
    " '17.2 Payment service provider',\n",
    " '4.1 Search engine for travel   Aggregator',\n",
    " '5.5 Helicopter services',\n",
    " '15.1 Print media',\n",
    " '1.5 Resort hotel',\n",
    " '3. Travel  agencies'"
   ]
  },
  {
   "cell_type": "code",
   "execution_count": 62,
   "metadata": {},
   "outputs": [
    {
     "data": {
      "text/html": [
       "<div>\n",
       "<style scoped>\n",
       "    .dataframe tbody tr th:only-of-type {\n",
       "        vertical-align: middle;\n",
       "    }\n",
       "\n",
       "    .dataframe tbody tr th {\n",
       "        vertical-align: top;\n",
       "    }\n",
       "\n",
       "    .dataframe thead th {\n",
       "        text-align: right;\n",
       "    }\n",
       "</style>\n",
       "<table border=\"1\" class=\"dataframe\">\n",
       "  <thead>\n",
       "    <tr style=\"text-align: right;\">\n",
       "      <th></th>\n",
       "      <th>exhibitorid</th>\n",
       "      <th>Name</th>\n",
       "      <th>categoryId</th>\n",
       "      <th>categoryName</th>\n",
       "    </tr>\n",
       "  </thead>\n",
       "  <tbody>\n",
       "    <tr>\n",
       "      <th>0</th>\n",
       "      <td>90556</td>\n",
       "      <td>Turkey Travels</td>\n",
       "      <td>52276</td>\n",
       "      <td>1.5 Resort hotel</td>\n",
       "    </tr>\n",
       "    <tr>\n",
       "      <th>1</th>\n",
       "      <td>90556</td>\n",
       "      <td>Turkey Travels</td>\n",
       "      <td>52280</td>\n",
       "      <td>2.1 Inbound tour operator</td>\n",
       "    </tr>\n",
       "    <tr>\n",
       "      <th>2</th>\n",
       "      <td>90556</td>\n",
       "      <td>Turkey Travels</td>\n",
       "      <td>52281</td>\n",
       "      <td>2.2 Outbound tour operator</td>\n",
       "    </tr>\n",
       "    <tr>\n",
       "      <th>3</th>\n",
       "      <td>92462</td>\n",
       "      <td>Russian Travel Company</td>\n",
       "      <td>52273</td>\n",
       "      <td>1.2 Apartments   Residential hotel</td>\n",
       "    </tr>\n",
       "    <tr>\n",
       "      <th>4</th>\n",
       "      <td>92462</td>\n",
       "      <td>Russian Travel Company</td>\n",
       "      <td>52283</td>\n",
       "      <td>2.4 Mass market tour operators</td>\n",
       "    </tr>\n",
       "  </tbody>\n",
       "</table>\n",
       "</div>"
      ],
      "text/plain": [
       "   exhibitorid                    Name  categoryId  \\\n",
       "0        90556          Turkey Travels       52276   \n",
       "1        90556          Turkey Travels       52280   \n",
       "2        90556          Turkey Travels       52281   \n",
       "3        92462  Russian Travel Company       52273   \n",
       "4        92462  Russian Travel Company       52283   \n",
       "\n",
       "                         categoryName  \n",
       "0                    1.5 Resort hotel  \n",
       "1           2.1 Inbound tour operator  \n",
       "2          2.2 Outbound tour operator  \n",
       "3  1.2 Apartments   Residential hotel  \n",
       "4      2.4 Mass market tour operators  "
      ]
     },
     "execution_count": 62,
     "metadata": {},
     "output_type": "execute_result"
    }
   ],
   "source": [
    "exhibitors_final.head()"
   ]
  },
  {
   "cell_type": "code",
   "execution_count": 83,
   "metadata": {},
   "outputs": [
    {
     "name": "stdout",
     "output_type": "stream",
     "text": [
      "Exhibitor Count per Category:\n",
      "                                  categoryName  exhibitorCount\n",
      "21          12.2 NTO: National tourism office               5\n",
      "35                        14.6 Gastro tourism               5\n",
      "3                          1.3 Hostel   Motel               5\n",
      "56               3.2 Authorized travel agency               4\n",
      "59  4.1 Search engine for travel   Aggregator               4\n",
      "64                    5.5 Helicopter services               4\n",
      "46              17.2 Payment service provider               4\n",
      "38                           15.1 Print media               4\n",
      "34                    14.5 Industrial tourism               3\n",
      "72                7. Mobile homes & glampings               3\n"
     ]
    }
   ],
   "source": [
    "category_counts = exhibitors_final.groupby(\"categoryName\")[\"exhibitorid\"].count().reset_index()\n",
    "category_counts.columns = [\"categoryName\", \"exhibitorCount\"]\n",
    "category_counts = category_counts.sort_values(by=\"exhibitorCount\", ascending=False)\n",
    "print(\"Exhibitor Count per Category:\\n\", category_counts.head(10))"
   ]
  },
  {
   "cell_type": "code",
   "execution_count": 84,
   "metadata": {},
   "outputs": [
    {
     "name": "stdout",
     "output_type": "stream",
     "text": [
      "Category Classification:\n",
      "                                    categoryName  exhibitorCount categoryType\n",
      "21            12.2 NTO: National tourism office               5      Popular\n",
      "35                          14.6 Gastro tourism               5      Popular\n",
      "3                            1.3 Hostel   Motel               5      Popular\n",
      "56                 3.2 Authorized travel agency               4      Popular\n",
      "59    4.1 Search engine for travel   Aggregator               4      Popular\n",
      "..                                          ...             ...          ...\n",
      "43  16.2 Real estate, property and homes abroad               1  Not popular\n",
      "44            17. Insurance companies & banking               1  Not popular\n",
      "60                                 5.1 Airlines               1  Not popular\n",
      "62                          5.3 Railway company               1  Not popular\n",
      "84   9.5 Equipment for restaurants and catering               1  Not popular\n",
      "\n",
      "[85 rows x 3 columns]\n"
     ]
    }
   ],
   "source": [
    "exhibitor_mean = category_counts[\"exhibitorCount\"].mean()\n",
    "category_counts[\"categoryType\"] = category_counts[\"exhibitorCount\"].apply(lambda x: \"Popular\" if x > exhibitor_mean else \"Not popular\")\n",
    "print(\"Category Classification:\\n\", category_counts.head(100))"
   ]
  },
  {
   "cell_type": "code",
   "execution_count": 90,
   "metadata": {},
   "outputs": [],
   "source": [
    "from sklearn.cluster import KMeans\n",
    "import numpy as np\n",
    "def hyper_parameter_tuning(k_value, df, feature_list):\n",
    "    \n",
    "    inertia = []\n",
    "    for k in range(1, k_value + 1):\n",
    "        model = KMeans(n_clusters=k, random_state=42, n_init=10)\n",
    "        model.fit(df[feature_list])\n",
    "        inertia.append(model.inertia_)\n",
    "    \n",
    "    plt.plot(range(1, k_value + 1), inertia, marker='o')\n",
    "    plt.xlabel('Number of Clusters')\n",
    "    plt.ylabel('Inertia Value')\n",
    "    plt.title('Optimal value for K')\n",
    "    plt.show()\n",
    "        "
   ]
  },
  {
   "cell_type": "code",
   "execution_count": 91,
   "metadata": {},
   "outputs": [
    {
     "data": {
      "image/png": "[encoded data removed]",
      "text/plain": [
       "<Figure size 640x480 with 1 Axes>"
      ]
     },
     "metadata": {},
     "output_type": "display_data"
    }
   ],
   "source": [
    "category_counts[\"categoryId\"] = pd.factorize(category_counts[\"categoryName\"])[0]\n",
    "hyper_parameter_tuning(10, category_counts, [\"categoryId\", \"exhibitorCount\"])"
   ]
  },
  {
   "cell_type": "markdown",
   "metadata": {},
   "source": [
    "#### Observations\n",
    "- Optimal value for k = 3 from above graph"
   ]
  },
  {
   "cell_type": "code",
   "execution_count": 92,
   "metadata": {},
   "outputs": [
    {
     "data": {
      "image/png": "[encoded data removed]",
      "text/plain": [
       "<Figure size 800x600 with 1 Axes>"
      ]
     },
     "metadata": {},
     "output_type": "display_data"
    }
   ],
   "source": [
    "model = KMeans(n_clusters=3, random_state=42)\n",
    "category_counts[\"Cluster\"] = model.fit_predict(category_counts[[\"categoryId\", \"exhibitorCount\"]])\n",
    "\n",
    "# Visualizing Clusters\n",
    "plt.figure(figsize=(8,6))\n",
    "sns.scatterplot(x=category_counts[\"categoryId\"], y=category_counts[\"exhibitorCount\"], hue=category_counts[\"Cluster\"], palette=\"Set1\")\n",
    "plt.xlabel(\"Category ID\")\n",
    "plt.ylabel(\"Number of Exhibitors\")\n",
    "plt.title(\"Clustering of Exhibitors Based on Categories\")\n",
    "plt.show()"
   ]
  },
  {
   "cell_type": "markdown",
   "metadata": {},
   "source": [
    "#### Observations\n",
    "- cluster 0 indicate the high number of exhibitor\n",
    "- cluster 1 indicate the medium number of exhibitor\n",
    "- cluster 2 indicate the least number of exhibitor"
   ]
  },
  {
   "cell_type": "markdown",
   "metadata": {},
   "source": [
    "### Recommendations"
   ]
  },
  {
   "cell_type": "markdown",
   "metadata": {},
   "source": [
    "- organise the popular categories on prime location\n",
    "- Promote non popular categories to attract more visitors\n",
    "- "
   ]
  },
  {
   "cell_type": "code",
   "execution_count": 94,
   "metadata": {},
   "outputs": [],
   "source": [
    "exhibitors_final.to_csv(base_folder+\"clean_exhibitor.csv\")"
   ]
  }
 ],
 "metadata": {
  "kernelspec": {
   "display_name": "base",
   "language": "python",
   "name": "python3"
  },
  "language_info": {
   "codemirror_mode": {
    "name": "ipython",
    "version": 3
   },
   "file_extension": ".py",
   "mimetype": "text/x-python",
   "name": "python",
   "nbconvert_exporter": "python",
   "pygments_lexer": "ipython3",
   "version": "3.11.7"
  }
 },
 "nbformat": 4,
 "nbformat_minor": 2
}
