{
 "cells": [
  {
   "cell_type": "markdown",
   "metadata": {},
   "source": [
    "### Libraries¶"
   ]
  },
  {
   "cell_type": "code",
   "execution_count": 17,
   "metadata": {},
   "outputs": [],
   "source": [
    "import pandas as pd\n",
    "import numpy as np\n",
    "import json"
   ]
  },
  {
   "cell_type": "markdown",
   "metadata": {},
   "source": [
    "### Helper functions"
   ]
  },
  {
   "cell_type": "code",
   "execution_count": 18,
   "metadata": {},
   "outputs": [],
   "source": [
    "def get_file_path(base_folder_path,file_name):\n",
    "    \"\"\"\n",
    "    This function takes the parameter base_folder_path and file_name\n",
    "    Return final path of file\n",
    "    \"\"\"\n",
    "    return base_folder_path + file_name\n",
    "\n",
    "def get_data_frame_from_csv(file_path):\n",
    "    \"\"\"\n",
    "    This function is used to create and return the data frame from csv file\n",
    "    parameters: file_path\n",
    "    return: Panda data frame\n",
    "    \"\"\"\n",
    "    return pd.read_csv(file_path)\n"
   ]
  },
  {
   "cell_type": "markdown",
   "metadata": {},
   "source": [
    "### Data load"
   ]
  },
  {
   "cell_type": "code",
   "execution_count": 19,
   "metadata": {},
   "outputs": [],
   "source": [
    "# Base folder path\n",
    "base_folder = \"../source/\"\n",
    "# Exihibitor file path\n",
    "exhibitors_path = get_file_path(base_folder,\"exhibitors.csv\")\n",
    "# Exhibitor categories path\n",
    "exhibitors_categories_path = get_file_path(base_folder,\"exhibitor_categories.csv\")"
   ]
  },
  {
   "cell_type": "code",
   "execution_count": 20,
   "metadata": {},
   "outputs": [],
   "source": [
    "exhibitors = get_data_frame_from_csv(exhibitors_path) #exhibitors exhibitors_categories\n",
    "exhibitors_categories = get_data_frame_from_csv(exhibitors_categories_path) # Exihibitor Categories data frame"
   ]
  },
  {
   "cell_type": "markdown",
   "metadata": {},
   "source": [
    "#### Data cleaning and processing"
   ]
  },
  {
   "cell_type": "code",
   "execution_count": 21,
   "metadata": {},
   "outputs": [
    {
     "data": {
      "text/html": [
       "<div>\n",
       "<style scoped>\n",
       "    .dataframe tbody tr th:only-of-type {\n",
       "        vertical-align: middle;\n",
       "    }\n",
       "\n",
       "    .dataframe tbody tr th {\n",
       "        vertical-align: top;\n",
       "    }\n",
       "\n",
       "    .dataframe thead th {\n",
       "        text-align: right;\n",
       "    }\n",
       "</style>\n",
       "<table border=\"1\" class=\"dataframe\">\n",
       "  <thead>\n",
       "    <tr style=\"text-align: right;\">\n",
       "      <th></th>\n",
       "      <th>exhibitorid</th>\n",
       "      <th>Name</th>\n",
       "      <th>MainCategories</th>\n",
       "    </tr>\n",
       "  </thead>\n",
       "  <tbody>\n",
       "    <tr>\n",
       "      <th>0</th>\n",
       "      <td>90556</td>\n",
       "      <td>Turkey Travels</td>\n",
       "      <td>52276|52280|52281</td>\n",
       "    </tr>\n",
       "    <tr>\n",
       "      <th>1</th>\n",
       "      <td>92462</td>\n",
       "      <td>Russian Travel Company</td>\n",
       "      <td>52273|52283|52289|52291|52298|52302</td>\n",
       "    </tr>\n",
       "    <tr>\n",
       "      <th>2</th>\n",
       "      <td>92491</td>\n",
       "      <td>Indian Travel Company</td>\n",
       "      <td>52273|52274|52281</td>\n",
       "    </tr>\n",
       "    <tr>\n",
       "      <th>3</th>\n",
       "      <td>92492</td>\n",
       "      <td>Asia Tourism</td>\n",
       "      <td>52272|52276|52352|52358</td>\n",
       "    </tr>\n",
       "    <tr>\n",
       "      <th>4</th>\n",
       "      <td>92493</td>\n",
       "      <td>SriLanka Adventures</td>\n",
       "      <td>52296|52327|52352</td>\n",
       "    </tr>\n",
       "  </tbody>\n",
       "</table>\n",
       "</div>"
      ],
      "text/plain": [
       "   exhibitorid                    Name                       MainCategories\n",
       "0        90556          Turkey Travels                    52276|52280|52281\n",
       "1        92462  Russian Travel Company  52273|52283|52289|52291|52298|52302\n",
       "2        92491   Indian Travel Company                    52273|52274|52281\n",
       "3        92492            Asia Tourism              52272|52276|52352|52358\n",
       "4        92493     SriLanka Adventures                    52296|52327|52352"
      ]
     },
     "execution_count": 21,
     "metadata": {},
     "output_type": "execute_result"
    }
   ],
   "source": [
    "exhibitors.head()"
   ]
  },
  {
   "cell_type": "markdown",
   "metadata": {},
   "source": [
    "#### Onservations\n",
    "- There are four features\n",
    "- exhibitorid:- It is unique identifier for exihibitor\n",
    "- Name:- Exihibitor Name\n",
    "- MainCategories:- This is the string in which categories are sepearted by |"
   ]
  },
  {
   "cell_type": "code",
   "execution_count": 22,
   "metadata": {},
   "outputs": [
    {
     "data": {
      "text/plain": [
       "exhibitorid       0\n",
       "Name              0\n",
       "MainCategories    0\n",
       "dtype: int64"
      ]
     },
     "execution_count": 22,
     "metadata": {},
     "output_type": "execute_result"
    }
   ],
   "source": [
    "# Get the null value counts of columns\n",
    "exhibitors.isna().sum()"
   ]
  },
  {
   "cell_type": "markdown",
   "metadata": {},
   "source": [
    "#### Observations\n",
    "- There are no column which has null value"
   ]
  },
  {
   "cell_type": "code",
   "execution_count": 23,
   "metadata": {},
   "outputs": [
    {
     "data": {
      "text/html": [
       "<div>\n",
       "<style scoped>\n",
       "    .dataframe tbody tr th:only-of-type {\n",
       "        vertical-align: middle;\n",
       "    }\n",
       "\n",
       "    .dataframe tbody tr th {\n",
       "        vertical-align: top;\n",
       "    }\n",
       "\n",
       "    .dataframe thead th {\n",
       "        text-align: right;\n",
       "    }\n",
       "</style>\n",
       "<table border=\"1\" class=\"dataframe\">\n",
       "  <thead>\n",
       "    <tr style=\"text-align: right;\">\n",
       "      <th></th>\n",
       "      <th>categoryId</th>\n",
       "      <th>categoryName</th>\n",
       "    </tr>\n",
       "  </thead>\n",
       "  <tbody>\n",
       "    <tr>\n",
       "      <th>0</th>\n",
       "      <td>52271</td>\n",
       "      <td>1. Accomodation providers</td>\n",
       "    </tr>\n",
       "    <tr>\n",
       "      <th>1</th>\n",
       "      <td>52272</td>\n",
       "      <td>1.1 Hotel / Hotel chain / Inn</td>\n",
       "    </tr>\n",
       "    <tr>\n",
       "      <th>2</th>\n",
       "      <td>52273</td>\n",
       "      <td>1.2 Apartments / Residential hotel</td>\n",
       "    </tr>\n",
       "    <tr>\n",
       "      <th>3</th>\n",
       "      <td>52274</td>\n",
       "      <td>1.3 Hostel / Motel</td>\n",
       "    </tr>\n",
       "    <tr>\n",
       "      <th>4</th>\n",
       "      <td>52275</td>\n",
       "      <td>1.4 Boarding house</td>\n",
       "    </tr>\n",
       "  </tbody>\n",
       "</table>\n",
       "</div>"
      ],
      "text/plain": [
       "   categoryId                        categoryName\n",
       "0       52271           1. Accomodation providers\n",
       "1       52272       1.1 Hotel / Hotel chain / Inn\n",
       "2       52273  1.2 Apartments / Residential hotel\n",
       "3       52274                  1.3 Hostel / Motel\n",
       "4       52275                  1.4 Boarding house"
      ]
     },
     "execution_count": 23,
     "metadata": {},
     "output_type": "execute_result"
    }
   ],
   "source": [
    "exhibitors_categories.head()"
   ]
  },
  {
   "cell_type": "markdown",
   "metadata": {},
   "source": [
    "#### Observations\n",
    "- Exihibitor Categories has two features\n",
    "- categoryid:- Uniquely identify the category\n",
    "- category name:- Some category name has back slash, we need to remove this"
   ]
  },
  {
   "cell_type": "code",
   "execution_count": 24,
   "metadata": {},
   "outputs": [
    {
     "data": {
      "text/plain": [
       "categoryId      0\n",
       "categoryName    0\n",
       "dtype: int64"
      ]
     },
     "execution_count": 24,
     "metadata": {},
     "output_type": "execute_result"
    }
   ],
   "source": [
    "# Exihibitor categories null value count\n",
    "exhibitors_categories.isna().sum()"
   ]
  },
  {
   "cell_type": "code",
   "execution_count": 25,
   "metadata": {},
   "outputs": [
    {
     "data": {
      "text/html": [
       "<div>\n",
       "<style scoped>\n",
       "    .dataframe tbody tr th:only-of-type {\n",
       "        vertical-align: middle;\n",
       "    }\n",
       "\n",
       "    .dataframe tbody tr th {\n",
       "        vertical-align: top;\n",
       "    }\n",
       "\n",
       "    .dataframe thead th {\n",
       "        text-align: right;\n",
       "    }\n",
       "</style>\n",
       "<table border=\"1\" class=\"dataframe\">\n",
       "  <thead>\n",
       "    <tr style=\"text-align: right;\">\n",
       "      <th></th>\n",
       "      <th>exhibitorid</th>\n",
       "      <th>Name</th>\n",
       "      <th>MainCategories</th>\n",
       "    </tr>\n",
       "  </thead>\n",
       "  <tbody>\n",
       "    <tr>\n",
       "      <th>0</th>\n",
       "      <td>90556</td>\n",
       "      <td>Turkey Travels</td>\n",
       "      <td>52276</td>\n",
       "    </tr>\n",
       "    <tr>\n",
       "      <th>0</th>\n",
       "      <td>90556</td>\n",
       "      <td>Turkey Travels</td>\n",
       "      <td>52280</td>\n",
       "    </tr>\n",
       "    <tr>\n",
       "      <th>0</th>\n",
       "      <td>90556</td>\n",
       "      <td>Turkey Travels</td>\n",
       "      <td>52281</td>\n",
       "    </tr>\n",
       "    <tr>\n",
       "      <th>1</th>\n",
       "      <td>92462</td>\n",
       "      <td>Russian Travel Company</td>\n",
       "      <td>52273</td>\n",
       "    </tr>\n",
       "    <tr>\n",
       "      <th>1</th>\n",
       "      <td>92462</td>\n",
       "      <td>Russian Travel Company</td>\n",
       "      <td>52283</td>\n",
       "    </tr>\n",
       "  </tbody>\n",
       "</table>\n",
       "</div>"
      ],
      "text/plain": [
       "   exhibitorid                    Name  MainCategories\n",
       "0        90556          Turkey Travels           52276\n",
       "0        90556          Turkey Travels           52280\n",
       "0        90556          Turkey Travels           52281\n",
       "1        92462  Russian Travel Company           52273\n",
       "1        92462  Russian Travel Company           52283"
      ]
     },
     "execution_count": 25,
     "metadata": {},
     "output_type": "execute_result"
    }
   ],
   "source": [
    "# Split the main category feature using pipe(|) sepeartor\n",
    "exhibitors[\"MainCategories\"] = exhibitors[\"MainCategories\"].str.split(\"|\")\n",
    "# Explode array of Main categories\n",
    "exhibitors_explode = exhibitors.explode(\"MainCategories\")\n",
    "# Cast Maincategories to int\n",
    "exhibitors_explode[\"MainCategories\"] = exhibitors_explode[\"MainCategories\"].astype(int)\n",
    "exhibitors_explode.head()"
   ]
  },
  {
   "cell_type": "code",
   "execution_count": 26,
   "metadata": {},
   "outputs": [
    {
     "data": {
      "text/html": [
       "<div>\n",
       "<style scoped>\n",
       "    .dataframe tbody tr th:only-of-type {\n",
       "        vertical-align: middle;\n",
       "    }\n",
       "\n",
       "    .dataframe tbody tr th {\n",
       "        vertical-align: top;\n",
       "    }\n",
       "\n",
       "    .dataframe thead th {\n",
       "        text-align: right;\n",
       "    }\n",
       "</style>\n",
       "<table border=\"1\" class=\"dataframe\">\n",
       "  <thead>\n",
       "    <tr style=\"text-align: right;\">\n",
       "      <th></th>\n",
       "      <th>exhibitorid</th>\n",
       "      <th>Name</th>\n",
       "      <th>MainCategories</th>\n",
       "      <th>categoryId</th>\n",
       "      <th>categoryName</th>\n",
       "    </tr>\n",
       "  </thead>\n",
       "  <tbody>\n",
       "    <tr>\n",
       "      <th>0</th>\n",
       "      <td>90556</td>\n",
       "      <td>Turkey Travels</td>\n",
       "      <td>52276</td>\n",
       "      <td>52276</td>\n",
       "      <td>1.5 Resort hotel</td>\n",
       "    </tr>\n",
       "    <tr>\n",
       "      <th>1</th>\n",
       "      <td>90556</td>\n",
       "      <td>Turkey Travels</td>\n",
       "      <td>52280</td>\n",
       "      <td>52280</td>\n",
       "      <td>2.1 Inbound tour operator</td>\n",
       "    </tr>\n",
       "    <tr>\n",
       "      <th>2</th>\n",
       "      <td>90556</td>\n",
       "      <td>Turkey Travels</td>\n",
       "      <td>52281</td>\n",
       "      <td>52281</td>\n",
       "      <td>2.2 Outbound tour operator</td>\n",
       "    </tr>\n",
       "    <tr>\n",
       "      <th>3</th>\n",
       "      <td>92462</td>\n",
       "      <td>Russian Travel Company</td>\n",
       "      <td>52273</td>\n",
       "      <td>52273</td>\n",
       "      <td>1.2 Apartments / Residential hotel</td>\n",
       "    </tr>\n",
       "    <tr>\n",
       "      <th>4</th>\n",
       "      <td>92462</td>\n",
       "      <td>Russian Travel Company</td>\n",
       "      <td>52283</td>\n",
       "      <td>52283</td>\n",
       "      <td>2.4 Mass market tour operators</td>\n",
       "    </tr>\n",
       "  </tbody>\n",
       "</table>\n",
       "</div>"
      ],
      "text/plain": [
       "   exhibitorid                    Name  MainCategories  categoryId  \\\n",
       "0        90556          Turkey Travels           52276       52276   \n",
       "1        90556          Turkey Travels           52280       52280   \n",
       "2        90556          Turkey Travels           52281       52281   \n",
       "3        92462  Russian Travel Company           52273       52273   \n",
       "4        92462  Russian Travel Company           52283       52283   \n",
       "\n",
       "                         categoryName  \n",
       "0                    1.5 Resort hotel  \n",
       "1           2.1 Inbound tour operator  \n",
       "2          2.2 Outbound tour operator  \n",
       "3  1.2 Apartments / Residential hotel  \n",
       "4      2.4 Mass market tour operators  "
      ]
     },
     "execution_count": 26,
     "metadata": {},
     "output_type": "execute_result"
    }
   ],
   "source": [
    "# Merge exhibitor and exhibitor categories \n",
    "exhibitors_final = exhibitors_explode.merge(exhibitors_categories, left_on = \"MainCategories\",right_on = \"categoryId\",how=\"left\")\n",
    "exhibitors_final.head()"
   ]
  },
  {
   "cell_type": "code",
   "execution_count": 27,
   "metadata": {},
   "outputs": [
    {
     "data": {
      "text/html": [
       "<div>\n",
       "<style scoped>\n",
       "    .dataframe tbody tr th:only-of-type {\n",
       "        vertical-align: middle;\n",
       "    }\n",
       "\n",
       "    .dataframe tbody tr th {\n",
       "        vertical-align: top;\n",
       "    }\n",
       "\n",
       "    .dataframe thead th {\n",
       "        text-align: right;\n",
       "    }\n",
       "</style>\n",
       "<table border=\"1\" class=\"dataframe\">\n",
       "  <thead>\n",
       "    <tr style=\"text-align: right;\">\n",
       "      <th></th>\n",
       "      <th>exhibitorid</th>\n",
       "      <th>Name</th>\n",
       "      <th>MainCategories</th>\n",
       "      <th>categoryId</th>\n",
       "      <th>categoryName</th>\n",
       "    </tr>\n",
       "  </thead>\n",
       "  <tbody>\n",
       "    <tr>\n",
       "      <th>0</th>\n",
       "      <td>90556</td>\n",
       "      <td>Turkey Travels</td>\n",
       "      <td>52276</td>\n",
       "      <td>52276</td>\n",
       "      <td>1.5 Resort hotel</td>\n",
       "    </tr>\n",
       "    <tr>\n",
       "      <th>1</th>\n",
       "      <td>90556</td>\n",
       "      <td>Turkey Travels</td>\n",
       "      <td>52280</td>\n",
       "      <td>52280</td>\n",
       "      <td>2.1 Inbound tour operator</td>\n",
       "    </tr>\n",
       "    <tr>\n",
       "      <th>2</th>\n",
       "      <td>90556</td>\n",
       "      <td>Turkey Travels</td>\n",
       "      <td>52281</td>\n",
       "      <td>52281</td>\n",
       "      <td>2.2 Outbound tour operator</td>\n",
       "    </tr>\n",
       "    <tr>\n",
       "      <th>3</th>\n",
       "      <td>92462</td>\n",
       "      <td>Russian Travel Company</td>\n",
       "      <td>52273</td>\n",
       "      <td>52273</td>\n",
       "      <td>1.2 Apartments   Residential hotel</td>\n",
       "    </tr>\n",
       "    <tr>\n",
       "      <th>4</th>\n",
       "      <td>92462</td>\n",
       "      <td>Russian Travel Company</td>\n",
       "      <td>52283</td>\n",
       "      <td>52283</td>\n",
       "      <td>2.4 Mass market tour operators</td>\n",
       "    </tr>\n",
       "  </tbody>\n",
       "</table>\n",
       "</div>"
      ],
      "text/plain": [
       "   exhibitorid                    Name  MainCategories  categoryId  \\\n",
       "0        90556          Turkey Travels           52276       52276   \n",
       "1        90556          Turkey Travels           52280       52280   \n",
       "2        90556          Turkey Travels           52281       52281   \n",
       "3        92462  Russian Travel Company           52273       52273   \n",
       "4        92462  Russian Travel Company           52283       52283   \n",
       "\n",
       "                         categoryName  \n",
       "0                    1.5 Resort hotel  \n",
       "1           2.1 Inbound tour operator  \n",
       "2          2.2 Outbound tour operator  \n",
       "3  1.2 Apartments   Residential hotel  \n",
       "4      2.4 Mass market tour operators  "
      ]
     },
     "execution_count": 27,
     "metadata": {},
     "output_type": "execute_result"
    }
   ],
   "source": [
    "# Remove the back slash (/) from category name\n",
    "exhibitors_final[\"categoryName\"] = exhibitors_final[\"categoryName\"].apply(lambda x: x.replace(\"/\", \" \"))\n",
    "exhibitors_final.head()"
   ]
  },
  {
   "cell_type": "code",
   "execution_count": 28,
   "metadata": {},
   "outputs": [
    {
     "data": {
      "text/html": [
       "<div>\n",
       "<style scoped>\n",
       "    .dataframe tbody tr th:only-of-type {\n",
       "        vertical-align: middle;\n",
       "    }\n",
       "\n",
       "    .dataframe tbody tr th {\n",
       "        vertical-align: top;\n",
       "    }\n",
       "\n",
       "    .dataframe thead th {\n",
       "        text-align: right;\n",
       "    }\n",
       "</style>\n",
       "<table border=\"1\" class=\"dataframe\">\n",
       "  <thead>\n",
       "    <tr style=\"text-align: right;\">\n",
       "      <th></th>\n",
       "      <th>exhibitorid</th>\n",
       "      <th>Name</th>\n",
       "      <th>categoryId</th>\n",
       "      <th>categoryName</th>\n",
       "    </tr>\n",
       "  </thead>\n",
       "  <tbody>\n",
       "    <tr>\n",
       "      <th>0</th>\n",
       "      <td>90556</td>\n",
       "      <td>Turkey Travels</td>\n",
       "      <td>52276</td>\n",
       "      <td>1.5 Resort hotel</td>\n",
       "    </tr>\n",
       "    <tr>\n",
       "      <th>1</th>\n",
       "      <td>90556</td>\n",
       "      <td>Turkey Travels</td>\n",
       "      <td>52280</td>\n",
       "      <td>2.1 Inbound tour operator</td>\n",
       "    </tr>\n",
       "    <tr>\n",
       "      <th>2</th>\n",
       "      <td>90556</td>\n",
       "      <td>Turkey Travels</td>\n",
       "      <td>52281</td>\n",
       "      <td>2.2 Outbound tour operator</td>\n",
       "    </tr>\n",
       "    <tr>\n",
       "      <th>3</th>\n",
       "      <td>92462</td>\n",
       "      <td>Russian Travel Company</td>\n",
       "      <td>52273</td>\n",
       "      <td>1.2 Apartments   Residential hotel</td>\n",
       "    </tr>\n",
       "    <tr>\n",
       "      <th>4</th>\n",
       "      <td>92462</td>\n",
       "      <td>Russian Travel Company</td>\n",
       "      <td>52283</td>\n",
       "      <td>2.4 Mass market tour operators</td>\n",
       "    </tr>\n",
       "  </tbody>\n",
       "</table>\n",
       "</div>"
      ],
      "text/plain": [
       "   exhibitorid                    Name  categoryId  \\\n",
       "0        90556          Turkey Travels       52276   \n",
       "1        90556          Turkey Travels       52280   \n",
       "2        90556          Turkey Travels       52281   \n",
       "3        92462  Russian Travel Company       52273   \n",
       "4        92462  Russian Travel Company       52283   \n",
       "\n",
       "                         categoryName  \n",
       "0                    1.5 Resort hotel  \n",
       "1           2.1 Inbound tour operator  \n",
       "2          2.2 Outbound tour operator  \n",
       "3  1.2 Apartments   Residential hotel  \n",
       "4      2.4 Mass market tour operators  "
      ]
     },
     "execution_count": 28,
     "metadata": {},
     "output_type": "execute_result"
    }
   ],
   "source": [
    "# Drop MainCategories column\n",
    "exhibitors_final.drop([\"MainCategories\"],axis = 1,inplace = True)\n",
    "exhibitors_final.head()"
   ]
  },
  {
   "cell_type": "code",
   "execution_count": 29,
   "metadata": {},
   "outputs": [
    {
     "data": {
      "text/plain": [
       "exhibitorid     0\n",
       "Name            0\n",
       "categoryId      0\n",
       "categoryName    0\n",
       "dtype: int64"
      ]
     },
     "execution_count": 29,
     "metadata": {},
     "output_type": "execute_result"
    }
   ],
   "source": [
    "# Get final data frame column null value count\n",
    "exhibitors_final.isna().sum()"
   ]
  },
  {
   "cell_type": "code",
   "execution_count": null,
   "metadata": {},
   "outputs": [],
   "source": []
  }
 ],
 "metadata": {
  "kernelspec": {
   "display_name": "base",
   "language": "python",
   "name": "python3"
  },
  "language_info": {
   "codemirror_mode": {
    "name": "ipython",
    "version": 3
   },
   "file_extension": ".py",
   "mimetype": "text/x-python",
   "name": "python",
   "nbconvert_exporter": "python",
   "pygments_lexer": "ipython3",
   "version": "3.11.7"
  }
 },
 "nbformat": 4,
 "nbformat_minor": 2
}
